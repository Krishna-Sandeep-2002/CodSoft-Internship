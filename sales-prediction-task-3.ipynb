{
 "cells": [
  {
   "cell_type": "code",
   "execution_count": 1,
   "id": "4a54ae87",
   "metadata": {
    "_cell_guid": "b1076dfc-b9ad-4769-8c92-a6c4dae69d19",
    "_uuid": "8f2839f25d086af736a60e9eeb907d3b93b6e0e5",
    "execution": {
     "iopub.execute_input": "2023-08-29T05:06:24.250850Z",
     "iopub.status.busy": "2023-08-29T05:06:24.250306Z",
     "iopub.status.idle": "2023-08-29T05:06:24.276038Z",
     "shell.execute_reply": "2023-08-29T05:06:24.274871Z"
    },
    "papermill": {
     "duration": 0.044182,
     "end_time": "2023-08-29T05:06:24.278639",
     "exception": false,
     "start_time": "2023-08-29T05:06:24.234457",
     "status": "completed"
    },
    "tags": []
   },
   "outputs": [
    {
     "name": "stdout",
     "output_type": "stream",
     "text": [
      "/kaggle/input/advertising-dataset/advertising.csv\n"
     ]
    }
   ],
   "source": [
    "# This Python 3 environment comes with many helpful analytics libraries installed\n",
    "# It is defined by the kaggle/python Docker image: https://github.com/kaggle/docker-python\n",
    "# For example, here's several helpful packages to load\n",
    "\n",
    "import numpy as np # linear algebra\n",
    "import pandas as pd # data processing, CSV file I/O (e.g. pd.read_csv)\n",
    "\n",
    "# Input data files are available in the read-only \"../input/\" directory\n",
    "# For example, running this (by clicking run or pressing Shift+Enter) will list all files under the input directory\n",
    "\n",
    "import os\n",
    "for dirname, _, filenames in os.walk('/kaggle/input'):\n",
    "    for filename in filenames:\n",
    "        print(os.path.join(dirname, filename))\n",
    "\n",
    "# You can write up to 20GB to the current directory (/kaggle/working/) that gets preserved as output when you create a version using \"Save & Run All\" \n",
    "# You can also write temporary files to /kaggle/temp/, but they won't be saved outside of the current session"
   ]
  },
  {
   "cell_type": "code",
   "execution_count": 2,
   "id": "037acae8",
   "metadata": {
    "execution": {
     "iopub.execute_input": "2023-08-29T05:06:24.304067Z",
     "iopub.status.busy": "2023-08-29T05:06:24.303663Z",
     "iopub.status.idle": "2023-08-29T05:06:48.433281Z",
     "shell.execute_reply": "2023-08-29T05:06:48.431412Z"
    },
    "papermill": {
     "duration": 24.145844,
     "end_time": "2023-08-29T05:06:48.437305",
     "exception": false,
     "start_time": "2023-08-29T05:06:24.291461",
     "status": "completed"
    },
    "tags": []
   },
   "outputs": [
    {
     "name": "stdout",
     "output_type": "stream",
     "text": [
      "Collecting numpy==1.22.0\r\n",
      "  Downloading numpy-1.22.0-cp310-cp310-manylinux_2_17_x86_64.manylinux2014_x86_64.whl (16.8 MB)\r\n",
      "\u001b[2K     \u001b[90m━━━━━━━━━━━━━━━━━━━━━━━━━━━━━━━━━━━━━━━━\u001b[0m \u001b[32m16.8/16.8 MB\u001b[0m \u001b[31m44.0 MB/s\u001b[0m eta \u001b[36m0:00:00\u001b[0m\r\n",
      "\u001b[?25hInstalling collected packages: numpy\r\n",
      "  Attempting uninstall: numpy\r\n",
      "    Found existing installation: numpy 1.23.5\r\n",
      "    Uninstalling numpy-1.23.5:\r\n",
      "      Successfully uninstalled numpy-1.23.5\r\n",
      "\u001b[31mERROR: pip's dependency resolver does not currently take into account all the packages that are installed. This behaviour is the source of the following dependency conflicts.\r\n",
      "apache-beam 2.46.0 requires dill<0.3.2,>=0.3.1.1, but you have dill 0.3.6 which is incompatible.\r\n",
      "chex 0.1.81 requires numpy>=1.25.0, but you have numpy 1.22.0 which is incompatible.\r\n",
      "librosa 0.10.0.post2 requires numpy!=1.22.0,!=1.22.1,!=1.22.2,>=1.20.3, but you have numpy 1.22.0 which is incompatible.\r\n",
      "momepy 0.6.0 requires shapely>=2, but you have shapely 1.8.5.post1 which is incompatible.\r\n",
      "pymc3 3.11.5 requires scipy<1.8.0,>=1.7.3, but you have scipy 1.11.1 which is incompatible.\r\n",
      "ydata-profiling 4.3.1 requires scipy<1.11,>=1.4.1, but you have scipy 1.11.1 which is incompatible.\u001b[0m\u001b[31m\r\n",
      "\u001b[0mSuccessfully installed numpy-1.22.0\r\n",
      "Note: you may need to restart the kernel to use updated packages.\n"
     ]
    }
   ],
   "source": [
    "pip install numpy==1.22.0"
   ]
  },
  {
   "cell_type": "code",
   "execution_count": 3,
   "id": "9a29533d",
   "metadata": {
    "execution": {
     "iopub.execute_input": "2023-08-29T05:06:48.465588Z",
     "iopub.status.busy": "2023-08-29T05:06:48.465116Z",
     "iopub.status.idle": "2023-08-29T05:07:22.049914Z",
     "shell.execute_reply": "2023-08-29T05:07:22.048442Z"
    },
    "papermill": {
     "duration": 33.602093,
     "end_time": "2023-08-29T05:07:22.052692",
     "exception": false,
     "start_time": "2023-08-29T05:06:48.450599",
     "status": "completed"
    },
    "tags": []
   },
   "outputs": [
    {
     "name": "stdout",
     "output_type": "stream",
     "text": [
      "Requirement already satisfied: scipy in /opt/conda/lib/python3.10/site-packages (1.11.1)\r\n",
      "Collecting scipy\r\n",
      "  Downloading scipy-1.11.2-cp310-cp310-manylinux_2_17_x86_64.manylinux2014_x86_64.whl (36.3 MB)\r\n",
      "\u001b[2K     \u001b[90m━━━━━━━━━━━━━━━━━━━━━━━━━━━━━━━━━━━━━━━━\u001b[0m \u001b[32m36.3/36.3 MB\u001b[0m \u001b[31m25.5 MB/s\u001b[0m eta \u001b[36m0:00:00\u001b[0m\r\n",
      "\u001b[?25hRequirement already satisfied: numpy<1.28.0,>=1.21.6 in /opt/conda/lib/python3.10/site-packages (from scipy) (1.22.0)\r\n",
      "Installing collected packages: scipy\r\n",
      "  Attempting uninstall: scipy\r\n",
      "    Found existing installation: scipy 1.11.1\r\n",
      "    Uninstalling scipy-1.11.1:\r\n",
      "      Successfully uninstalled scipy-1.11.1\r\n",
      "\u001b[31mERROR: pip's dependency resolver does not currently take into account all the packages that are installed. This behaviour is the source of the following dependency conflicts.\r\n",
      "librosa 0.10.0.post2 requires numpy!=1.22.0,!=1.22.1,!=1.22.2,>=1.20.3, but you have numpy 1.22.0 which is incompatible.\r\n",
      "momepy 0.6.0 requires shapely>=2, but you have shapely 1.8.5.post1 which is incompatible.\r\n",
      "pymc3 3.11.5 requires scipy<1.8.0,>=1.7.3, but you have scipy 1.11.2 which is incompatible.\r\n",
      "ydata-profiling 4.3.1 requires scipy<1.11,>=1.4.1, but you have scipy 1.11.2 which is incompatible.\u001b[0m\u001b[31m\r\n",
      "\u001b[0mSuccessfully installed scipy-1.11.2\r\n",
      "Note: you may need to restart the kernel to use updated packages.\n"
     ]
    }
   ],
   "source": [
    "pip install --upgrade scipy"
   ]
  },
  {
   "cell_type": "code",
   "execution_count": 4,
   "id": "b1882cfa",
   "metadata": {
    "execution": {
     "iopub.execute_input": "2023-08-29T05:07:22.084109Z",
     "iopub.status.busy": "2023-08-29T05:07:22.083663Z",
     "iopub.status.idle": "2023-08-29T05:07:25.073473Z",
     "shell.execute_reply": "2023-08-29T05:07:25.071387Z"
    },
    "papermill": {
     "duration": 3.011151,
     "end_time": "2023-08-29T05:07:25.077997",
     "exception": false,
     "start_time": "2023-08-29T05:07:22.066846",
     "status": "completed"
    },
    "tags": []
   },
   "outputs": [
    {
     "name": "stderr",
     "output_type": "stream",
     "text": [
      "<frozen importlib._bootstrap>:241: RuntimeWarning: scipy._lib.messagestream.MessageStream size changed, may indicate binary incompatibility. Expected 56 from C header, got 64 from PyObject\n"
     ]
    }
   ],
   "source": [
    "import pandas as pd    #Pandas is a Python library used for working with data sets.It has functions for analyzing, cleaning, exploring, and manipulating data.\n",
    "import numpy as np     #Numpy Python library is used for including any type of mathematical operation in the code. It is the fundamental package for scientific calculation in Python. \n",
    "from sklearn.model_selection import train_test_split    #train_test_split is a function in Sklearn model selection for splitting data arrays into two subsets: for training data and for testing data. With this function, you don't need to divide the dataset manually. By default, Sklearn train_test_split will make random partitions for the two subsets.\n",
    "from sklearn.impute import SimpleImputer  #SimpleImputer it replace the missing values by the strategy means mean or mode mean for numerical columns and mode for categorical columns\n",
    "from sklearn.preprocessing import StandardScaler #StandardScaler is used for scalling the data and make the data unitless also minimizing the values\n",
    "from sklearn.preprocessing import OneHotEncoder  \n",
    "import matplotlib.pyplot as plt #matplotlib, which is a Python 2D plotting library, and with this library, we need to import a sub-library pyplot. This library is used to plot any type of charts in Python for the code\n",
    "import plotly.express as px\n",
    "import seaborn as sns\n",
    "from ml_fun import *\n",
    "from sklearn.metrics import mean_squared_error, mean_absolute_error, r2_score\n",
    "from sklearn.linear_model import LinearRegression\n",
    "from sklearn.tree import DecisionTreeRegressor\n",
    "from sklearn.ensemble import RandomForestRegressor\n",
    "from sklearn.neighbors import KNeighborsRegressor\n",
    "from sklearn.svm import SVR\n",
    "#from sklearn.neural_network import MLPRegressor"
   ]
  },
  {
   "cell_type": "markdown",
   "id": "76fd9b31",
   "metadata": {
    "papermill": {
     "duration": 0.015431,
     "end_time": "2023-08-29T05:07:25.109732",
     "exception": false,
     "start_time": "2023-08-29T05:07:25.094301",
     "status": "completed"
    },
    "tags": []
   },
   "source": [
    "# **<font color=\"7AAA04\">Data Understanding</font>**"
   ]
  },
  {
   "cell_type": "code",
   "execution_count": 5,
   "id": "03d81715",
   "metadata": {
    "execution": {
     "iopub.execute_input": "2023-08-29T05:07:25.143564Z",
     "iopub.status.busy": "2023-08-29T05:07:25.143121Z",
     "iopub.status.idle": "2023-08-29T05:07:25.167261Z",
     "shell.execute_reply": "2023-08-29T05:07:25.165977Z"
    },
    "papermill": {
     "duration": 0.0451,
     "end_time": "2023-08-29T05:07:25.170138",
     "exception": false,
     "start_time": "2023-08-29T05:07:25.125038",
     "status": "completed"
    },
    "tags": []
   },
   "outputs": [],
   "source": [
    "df=pd.read_csv(\"/kaggle/input/advertising-dataset/advertising.csv\")"
   ]
  },
  {
   "cell_type": "code",
   "execution_count": 6,
   "id": "78d017b0",
   "metadata": {
    "execution": {
     "iopub.execute_input": "2023-08-29T05:07:25.204800Z",
     "iopub.status.busy": "2023-08-29T05:07:25.203439Z",
     "iopub.status.idle": "2023-08-29T05:07:25.236240Z",
     "shell.execute_reply": "2023-08-29T05:07:25.234665Z"
    },
    "papermill": {
     "duration": 0.054348,
     "end_time": "2023-08-29T05:07:25.239072",
     "exception": false,
     "start_time": "2023-08-29T05:07:25.184724",
     "status": "completed"
    },
    "tags": []
   },
   "outputs": [
    {
     "data": {
      "text/html": [
       "<div>\n",
       "<style scoped>\n",
       "    .dataframe tbody tr th:only-of-type {\n",
       "        vertical-align: middle;\n",
       "    }\n",
       "\n",
       "    .dataframe tbody tr th {\n",
       "        vertical-align: top;\n",
       "    }\n",
       "\n",
       "    .dataframe thead th {\n",
       "        text-align: right;\n",
       "    }\n",
       "</style>\n",
       "<table border=\"1\" class=\"dataframe\">\n",
       "  <thead>\n",
       "    <tr style=\"text-align: right;\">\n",
       "      <th></th>\n",
       "      <th>TV</th>\n",
       "      <th>Radio</th>\n",
       "      <th>Newspaper</th>\n",
       "      <th>Sales</th>\n",
       "    </tr>\n",
       "  </thead>\n",
       "  <tbody>\n",
       "    <tr>\n",
       "      <th>0</th>\n",
       "      <td>230.1</td>\n",
       "      <td>37.8</td>\n",
       "      <td>69.2</td>\n",
       "      <td>22.1</td>\n",
       "    </tr>\n",
       "    <tr>\n",
       "      <th>1</th>\n",
       "      <td>44.5</td>\n",
       "      <td>39.3</td>\n",
       "      <td>45.1</td>\n",
       "      <td>10.4</td>\n",
       "    </tr>\n",
       "    <tr>\n",
       "      <th>2</th>\n",
       "      <td>17.2</td>\n",
       "      <td>45.9</td>\n",
       "      <td>69.3</td>\n",
       "      <td>12.0</td>\n",
       "    </tr>\n",
       "    <tr>\n",
       "      <th>3</th>\n",
       "      <td>151.5</td>\n",
       "      <td>41.3</td>\n",
       "      <td>58.5</td>\n",
       "      <td>16.5</td>\n",
       "    </tr>\n",
       "    <tr>\n",
       "      <th>4</th>\n",
       "      <td>180.8</td>\n",
       "      <td>10.8</td>\n",
       "      <td>58.4</td>\n",
       "      <td>17.9</td>\n",
       "    </tr>\n",
       "    <tr>\n",
       "      <th>...</th>\n",
       "      <td>...</td>\n",
       "      <td>...</td>\n",
       "      <td>...</td>\n",
       "      <td>...</td>\n",
       "    </tr>\n",
       "    <tr>\n",
       "      <th>195</th>\n",
       "      <td>38.2</td>\n",
       "      <td>3.7</td>\n",
       "      <td>13.8</td>\n",
       "      <td>7.6</td>\n",
       "    </tr>\n",
       "    <tr>\n",
       "      <th>196</th>\n",
       "      <td>94.2</td>\n",
       "      <td>4.9</td>\n",
       "      <td>8.1</td>\n",
       "      <td>14.0</td>\n",
       "    </tr>\n",
       "    <tr>\n",
       "      <th>197</th>\n",
       "      <td>177.0</td>\n",
       "      <td>9.3</td>\n",
       "      <td>6.4</td>\n",
       "      <td>14.8</td>\n",
       "    </tr>\n",
       "    <tr>\n",
       "      <th>198</th>\n",
       "      <td>283.6</td>\n",
       "      <td>42.0</td>\n",
       "      <td>66.2</td>\n",
       "      <td>25.5</td>\n",
       "    </tr>\n",
       "    <tr>\n",
       "      <th>199</th>\n",
       "      <td>232.1</td>\n",
       "      <td>8.6</td>\n",
       "      <td>8.7</td>\n",
       "      <td>18.4</td>\n",
       "    </tr>\n",
       "  </tbody>\n",
       "</table>\n",
       "<p>200 rows × 4 columns</p>\n",
       "</div>"
      ],
      "text/plain": [
       "        TV  Radio  Newspaper  Sales\n",
       "0    230.1   37.8       69.2   22.1\n",
       "1     44.5   39.3       45.1   10.4\n",
       "2     17.2   45.9       69.3   12.0\n",
       "3    151.5   41.3       58.5   16.5\n",
       "4    180.8   10.8       58.4   17.9\n",
       "..     ...    ...        ...    ...\n",
       "195   38.2    3.7       13.8    7.6\n",
       "196   94.2    4.9        8.1   14.0\n",
       "197  177.0    9.3        6.4   14.8\n",
       "198  283.6   42.0       66.2   25.5\n",
       "199  232.1    8.6        8.7   18.4\n",
       "\n",
       "[200 rows x 4 columns]"
      ]
     },
     "execution_count": 6,
     "metadata": {},
     "output_type": "execute_result"
    }
   ],
   "source": [
    "df"
   ]
  },
  {
   "cell_type": "code",
   "execution_count": 7,
   "id": "00996a19",
   "metadata": {
    "execution": {
     "iopub.execute_input": "2023-08-29T05:07:25.270539Z",
     "iopub.status.busy": "2023-08-29T05:07:25.270131Z",
     "iopub.status.idle": "2023-08-29T05:07:25.282090Z",
     "shell.execute_reply": "2023-08-29T05:07:25.280981Z"
    },
    "papermill": {
     "duration": 0.030861,
     "end_time": "2023-08-29T05:07:25.284719",
     "exception": false,
     "start_time": "2023-08-29T05:07:25.253858",
     "status": "completed"
    },
    "tags": []
   },
   "outputs": [
    {
     "name": "stdout",
     "output_type": "stream",
     "text": [
      "************************************************************************************************************************************************************************************************************************************************************************************************************************************************************************************************************************************************************************************************************************************************************************************************************************************************************************************************************************************************************************************************************************************************************************************************************************************\n",
      "\u001b[1m\n",
      "  Parameters:DataFrame\n",
      "  This function returns the first 5 rows, shape and datatype of each column\n",
      "  \u001b[0m\n",
      "************************************************************************************************************************************************************************************************************************************************************************************************************************************************************************************************************************************************************************************************************************************************************************************************************************************************************************************************************************************************************************************************************************************************************************************************************************************\n",
      "###The top 5 rows in the DataSet###\n",
      "       TV  Radio  Newspaper  Sales\n",
      "0  230.1   37.8       69.2   22.1\n",
      "1   44.5   39.3       45.1   10.4\n",
      "2   17.2   45.9       69.3   12.0\n",
      "3  151.5   41.3       58.5   16.5\n",
      "4  180.8   10.8       58.4   17.9\n",
      "****************************************************************************************************\n",
      "###The shape of the DataSet###\n",
      " (200, 4)\n",
      "****************************************************************************************************\n",
      "###Data types of the columns###\n",
      " TV           float64\n",
      "Radio        float64\n",
      "Newspaper    float64\n",
      "Sales        float64\n",
      "dtype: object\n"
     ]
    }
   ],
   "source": [
    "DataUnderstanding(df)"
   ]
  },
  {
   "cell_type": "code",
   "execution_count": 8,
   "id": "c9c59ce7",
   "metadata": {
    "execution": {
     "iopub.execute_input": "2023-08-29T05:07:25.317357Z",
     "iopub.status.busy": "2023-08-29T05:07:25.316859Z",
     "iopub.status.idle": "2023-08-29T05:07:25.337965Z",
     "shell.execute_reply": "2023-08-29T05:07:25.336496Z"
    },
    "papermill": {
     "duration": 0.042584,
     "end_time": "2023-08-29T05:07:25.341998",
     "exception": false,
     "start_time": "2023-08-29T05:07:25.299414",
     "status": "completed"
    },
    "tags": []
   },
   "outputs": [
    {
     "name": "stdout",
     "output_type": "stream",
     "text": [
      "************************************************************************************************************************************************************************************************************************************************************************************************************************************************************************************************************************************************************************************************************************************************************************************************************************************************************************************************************************************************************************************************************************************************************************************************************************************\n",
      "\u001b[1m\n",
      "  Parametrs:DataFRame,Colm is the columns to check for null values \n",
      "  this fucntion will checks the null values and unique values returns its count\n",
      "  \u001b[0m\n",
      "************************************************************************************************************************************************************************************************************************************************************************************************************************************************************************************************************************************************************************************************************************************************************************************************************************************************************************************************************************************************************************************************************************************************************************************************************************************\n"
     ]
    },
    {
     "data": {
      "text/html": [
       "<div>\n",
       "<style scoped>\n",
       "    .dataframe tbody tr th:only-of-type {\n",
       "        vertical-align: middle;\n",
       "    }\n",
       "\n",
       "    .dataframe tbody tr th {\n",
       "        vertical-align: top;\n",
       "    }\n",
       "\n",
       "    .dataframe thead th {\n",
       "        text-align: right;\n",
       "    }\n",
       "</style>\n",
       "<table border=\"1\" class=\"dataframe\">\n",
       "  <thead>\n",
       "    <tr style=\"text-align: right;\">\n",
       "      <th></th>\n",
       "      <th>Column</th>\n",
       "      <th>Null Values</th>\n",
       "      <th>Unique Values</th>\n",
       "    </tr>\n",
       "  </thead>\n",
       "  <tbody>\n",
       "    <tr>\n",
       "      <th>0</th>\n",
       "      <td>TV</td>\n",
       "      <td>0</td>\n",
       "      <td>190</td>\n",
       "    </tr>\n",
       "    <tr>\n",
       "      <th>1</th>\n",
       "      <td>Radio</td>\n",
       "      <td>0</td>\n",
       "      <td>167</td>\n",
       "    </tr>\n",
       "    <tr>\n",
       "      <th>2</th>\n",
       "      <td>Newspaper</td>\n",
       "      <td>0</td>\n",
       "      <td>172</td>\n",
       "    </tr>\n",
       "    <tr>\n",
       "      <th>3</th>\n",
       "      <td>Sales</td>\n",
       "      <td>0</td>\n",
       "      <td>121</td>\n",
       "    </tr>\n",
       "  </tbody>\n",
       "</table>\n",
       "</div>"
      ],
      "text/plain": [
       "      Column  Null Values  Unique Values\n",
       "0         TV            0            190\n",
       "1      Radio            0            167\n",
       "2  Newspaper            0            172\n",
       "3      Sales            0            121"
      ]
     },
     "execution_count": 8,
     "metadata": {},
     "output_type": "execute_result"
    }
   ],
   "source": [
    "Null_Unique_vals(df)"
   ]
  },
  {
   "cell_type": "code",
   "execution_count": 9,
   "id": "3e97d399",
   "metadata": {
    "execution": {
     "iopub.execute_input": "2023-08-29T05:07:25.375073Z",
     "iopub.status.busy": "2023-08-29T05:07:25.374640Z",
     "iopub.status.idle": "2023-08-29T05:07:25.392004Z",
     "shell.execute_reply": "2023-08-29T05:07:25.390465Z"
    },
    "papermill": {
     "duration": 0.037397,
     "end_time": "2023-08-29T05:07:25.395247",
     "exception": false,
     "start_time": "2023-08-29T05:07:25.357850",
     "status": "completed"
    },
    "tags": []
   },
   "outputs": [
    {
     "name": "stdout",
     "output_type": "stream",
     "text": [
      "Number of unique values in TV is  190 \n",
      "\n",
      "199.8    2\n",
      "109.8    2\n",
      "17.2     2\n",
      "177.0    2\n",
      "222.4    2\n",
      "        ..\n",
      "139.3    1\n",
      "216.8    1\n",
      "199.1    1\n",
      "26.8     1\n",
      "232.1    1\n",
      "Name: TV, Length: 190, dtype: int64\n",
      "****************************************************************************************************\n",
      "****************************************************************************************************\n",
      "Number of unique values in Radio is  167 \n",
      "\n",
      "4.1     3\n",
      "5.7     3\n",
      "13.9    2\n",
      "14.3    2\n",
      "36.9    2\n",
      "       ..\n",
      "42.8    1\n",
      "14.5    1\n",
      "30.6    1\n",
      "33.0    1\n",
      "8.6     1\n",
      "Name: Radio, Length: 167, dtype: int64\n",
      "****************************************************************************************************\n",
      "****************************************************************************************************\n",
      "Number of unique values in Newspaper is  172 \n",
      "\n",
      "9.3     3\n",
      "25.6    3\n",
      "8.7     3\n",
      "34.6    2\n",
      "8.5     2\n",
      "       ..\n",
      "27.2    1\n",
      "31.7    1\n",
      "19.3    1\n",
      "31.3    1\n",
      "66.2    1\n",
      "Name: Newspaper, Length: 172, dtype: int64\n",
      "****************************************************************************************************\n",
      "****************************************************************************************************\n",
      "Number of unique values in Sales is  121 \n",
      "\n",
      "11.9    5\n",
      "16.7    5\n",
      "20.7    4\n",
      "11.0    3\n",
      "11.3    3\n",
      "       ..\n",
      "13.4    1\n",
      "24.2    1\n",
      "8.1     1\n",
      "5.5     1\n",
      "25.5    1\n",
      "Name: Sales, Length: 121, dtype: int64\n",
      "****************************************************************************************************\n",
      "****************************************************************************************************\n"
     ]
    }
   ],
   "source": [
    "Unique_Vals(df,Colm=df.columns)"
   ]
  },
  {
   "cell_type": "code",
   "execution_count": 10,
   "id": "a8fe4ad6",
   "metadata": {
    "execution": {
     "iopub.execute_input": "2023-08-29T05:07:25.430170Z",
     "iopub.status.busy": "2023-08-29T05:07:25.429650Z",
     "iopub.status.idle": "2023-08-29T05:07:40.309783Z",
     "shell.execute_reply": "2023-08-29T05:07:40.308240Z"
    },
    "papermill": {
     "duration": 14.901379,
     "end_time": "2023-08-29T05:07:40.312763",
     "exception": false,
     "start_time": "2023-08-29T05:07:25.411384",
     "status": "completed"
    },
    "tags": []
   },
   "outputs": [
    {
     "name": "stdout",
     "output_type": "stream",
     "text": [
      "Requirement already satisfied: plotly in /opt/conda/lib/python3.10/site-packages (5.15.0)\r\n",
      "Requirement already satisfied: tenacity>=6.2.0 in /opt/conda/lib/python3.10/site-packages (from plotly) (8.2.2)\r\n",
      "Requirement already satisfied: packaging in /opt/conda/lib/python3.10/site-packages (from plotly) (21.3)\r\n",
      "Requirement already satisfied: pyparsing!=3.0.5,>=2.0.2 in /opt/conda/lib/python3.10/site-packages (from packaging->plotly) (3.0.9)\r\n"
     ]
    }
   ],
   "source": [
    "!pip install plotly\n",
    "import plotly.graph_objects as go"
   ]
  },
  {
   "cell_type": "code",
   "execution_count": 11,
   "id": "15d4c14c",
   "metadata": {
    "execution": {
     "iopub.execute_input": "2023-08-29T05:07:40.346163Z",
     "iopub.status.busy": "2023-08-29T05:07:40.345698Z",
     "iopub.status.idle": "2023-08-29T05:07:40.355836Z",
     "shell.execute_reply": "2023-08-29T05:07:40.354335Z"
    },
    "papermill": {
     "duration": 0.030248,
     "end_time": "2023-08-29T05:07:40.358746",
     "exception": false,
     "start_time": "2023-08-29T05:07:40.328498",
     "status": "completed"
    },
    "tags": []
   },
   "outputs": [
    {
     "data": {
      "text/plain": [
       "Index(['TV', 'Radio', 'Newspaper', 'Sales'], dtype='object')"
      ]
     },
     "execution_count": 11,
     "metadata": {},
     "output_type": "execute_result"
    }
   ],
   "source": [
    "df.columns"
   ]
  },
  {
   "cell_type": "markdown",
   "id": "c055d941",
   "metadata": {
    "papermill": {
     "duration": 0.015632,
     "end_time": "2023-08-29T05:07:40.390476",
     "exception": false,
     "start_time": "2023-08-29T05:07:40.374844",
     "status": "completed"
    },
    "tags": []
   },
   "source": [
    "# **<font color=\"128789\">Exploratory Data Analysis</font>**"
   ]
  },
  {
   "cell_type": "code",
   "execution_count": 12,
   "id": "444bdf09",
   "metadata": {
    "execution": {
     "iopub.execute_input": "2023-08-29T05:07:40.426234Z",
     "iopub.status.busy": "2023-08-29T05:07:40.425734Z",
     "iopub.status.idle": "2023-08-29T05:07:40.956332Z",
     "shell.execute_reply": "2023-08-29T05:07:40.954552Z"
    },
    "papermill": {
     "duration": 0.552777,
     "end_time": "2023-08-29T05:07:40.959571",
     "exception": false,
     "start_time": "2023-08-29T05:07:40.406794",
     "status": "completed"
    },
    "tags": []
   },
   "outputs": [
    {
     "data": {
      "text/html": [
       "        <script type=\"text/javascript\">\n",
       "        window.PlotlyConfig = {MathJaxConfig: 'local'};\n",
       "        if (window.MathJax && window.MathJax.Hub && window.MathJax.Hub.Config) {window.MathJax.Hub.Config({SVG: {font: \"STIX-Web\"}});}\n",
       "        if (typeof require !== 'undefined') {\n",
       "        require.undef(\"plotly\");\n",
       "        requirejs.config({\n",
       "            paths: {\n",
       "                'plotly': ['https://cdn.plot.ly/plotly-2.24.1.min']\n",
       "            }\n",
       "        });\n",
       "        require(['plotly'], function(Plotly) {\n",
       "            window._Plotly = Plotly;\n",
       "        });\n",
       "        }\n",
       "        </script>\n",
       "        "
      ]
     },
     "metadata": {},
     "output_type": "display_data"
    },
    {
     "data": {
      "text/html": [
       "<div>                            <div id=\"06833767-767e-4229-8c4d-faf0a5ceeed4\" class=\"plotly-graph-div\" style=\"height:800px; width:800px;\"></div>            <script type=\"text/javascript\">                require([\"plotly\"], function(Plotly) {                    window.PLOTLYENV=window.PLOTLYENV || {};                                    if (document.getElementById(\"06833767-767e-4229-8c4d-faf0a5ceeed4\")) {                    Plotly.newPlot(                        \"06833767-767e-4229-8c4d-faf0a5ceeed4\",                        [{\"boxmean\":true,\"name\":\"TV\",\"x\":[230.1,44.5,17.2,151.5,180.8,8.7,57.5,120.2,8.6,199.8,66.1,214.7,23.8,97.5,204.1,195.4,67.8,281.4,69.2,147.3,218.4,237.4,13.2,228.3,62.3,262.9,142.9,240.1,248.8,70.6,292.9,112.9,97.2,265.6,95.7,290.7,266.9,74.7,43.1,228.0,202.5,177.0,293.6,206.9,25.1,175.1,89.7,239.9,227.2,66.9,199.8,100.4,216.4,182.6,262.7,198.9,7.3,136.2,210.8,210.7,53.5,261.3,239.3,102.7,131.1,69.0,31.5,139.3,237.4,216.8,199.1,109.8,26.8,129.4,213.4,16.9,27.5,120.5,5.4,116.0,76.4,239.8,75.3,68.4,213.5,193.2,76.3,110.7,88.3,109.8,134.3,28.6,217.7,250.9,107.4,163.3,197.6,184.9,289.7,135.2,222.4,296.4,280.2,187.9,238.2,137.9,25.0,90.4,13.1,255.4,225.8,241.7,175.7,209.6,78.2,75.1,139.2,76.4,125.7,19.4,141.3,18.8,224.0,123.1,229.5,87.2,7.8,80.2,220.3,59.6,0.7,265.2,8.4,219.8,36.9,48.3,25.6,273.7,43.0,184.9,73.4,193.7,220.5,104.6,96.2,140.3,240.1,243.2,38.0,44.7,280.7,121.0,197.6,171.3,187.8,4.1,93.9,149.8,11.7,131.7,172.5,85.7,188.4,163.5,117.2,234.5,17.9,206.8,215.4,284.3,50.0,164.5,19.6,168.4,222.4,276.9,248.4,170.2,276.7,165.6,156.6,218.5,56.2,287.6,253.8,205.0,139.5,191.1,286.0,18.7,39.5,75.5,17.2,166.8,149.7,38.2,94.2,177.0,283.6,232.1],\"type\":\"box\",\"xaxis\":\"x\",\"yaxis\":\"y\"},{\"boxmean\":true,\"name\":\"Radio\",\"x\":[37.8,39.3,45.9,41.3,10.8,48.9,32.8,19.6,2.1,2.6,5.8,24.0,35.1,7.6,32.9,47.7,36.6,39.6,20.5,23.9,27.7,5.1,15.9,16.9,12.6,3.5,29.3,16.7,27.1,16.0,28.3,17.4,1.5,20.0,1.4,4.1,43.8,49.4,26.7,37.7,22.3,33.4,27.7,8.4,25.7,22.5,9.9,41.5,15.8,11.7,3.1,9.6,41.7,46.2,28.8,49.4,28.1,19.2,49.6,29.5,2.0,42.7,15.5,29.6,42.8,9.3,24.6,14.5,27.5,43.9,30.6,14.3,33.0,5.7,24.6,43.7,1.6,28.5,29.9,7.7,26.7,4.1,20.3,44.5,43.0,18.4,27.5,40.6,25.5,47.8,4.9,1.5,33.5,36.5,14.0,31.6,3.5,21.0,42.3,41.7,4.3,36.3,10.1,17.2,34.3,46.4,11.0,0.3,0.4,26.9,8.2,38.0,15.4,20.6,46.8,35.0,14.3,0.8,36.9,16.0,26.8,21.7,2.4,34.6,32.3,11.8,38.9,0.0,49.0,12.0,39.6,2.9,27.2,33.5,38.6,47.0,39.0,28.9,25.9,43.9,17.0,35.4,33.2,5.7,14.8,1.9,7.3,49.0,40.3,25.8,13.9,8.4,23.3,39.7,21.1,11.6,43.5,1.3,36.9,18.4,18.1,35.8,18.1,36.8,14.7,3.4,37.6,5.2,23.6,10.6,11.6,20.9,20.1,7.1,3.4,48.9,30.2,7.8,2.3,10.0,2.6,5.4,5.7,43.0,21.3,45.1,2.1,28.7,13.9,12.1,41.1,10.8,4.1,42.0,35.6,3.7,4.9,9.3,42.0,8.6],\"type\":\"box\",\"xaxis\":\"x2\",\"yaxis\":\"y2\"},{\"boxmean\":true,\"name\":\"Newspaper\",\"x\":[69.2,45.1,69.3,58.5,58.4,75.0,23.5,11.6,1.0,21.2,24.2,4.0,65.9,7.2,46.0,52.9,114.0,55.8,18.3,19.1,53.4,23.5,49.6,26.2,18.3,19.5,12.6,22.9,22.9,40.8,43.2,38.6,30.0,0.3,7.4,8.5,5.0,45.7,35.1,32.0,31.6,38.7,1.8,26.4,43.3,31.5,35.7,18.5,49.9,36.8,34.6,3.6,39.6,58.7,15.9,60.0,41.4,16.6,37.7,9.3,21.4,54.7,27.3,8.4,28.9,0.9,2.2,10.2,11.0,27.2,38.7,31.7,19.3,31.3,13.1,89.4,20.7,14.2,9.4,23.1,22.3,36.9,32.5,35.6,33.8,65.7,16.0,63.2,73.4,51.4,9.3,33.0,59.0,72.3,10.9,52.9,5.9,22.0,51.2,45.9,49.8,100.9,21.4,17.9,5.3,59.0,29.7,23.2,25.6,5.5,56.5,23.2,2.4,10.7,34.5,52.7,25.6,14.8,79.2,22.3,46.2,50.4,15.6,12.4,74.2,25.9,50.6,9.2,3.2,43.1,8.7,43.0,2.1,45.1,65.6,8.5,9.3,59.7,20.5,1.7,12.9,75.6,37.9,34.4,38.9,9.0,8.7,44.3,11.9,20.6,37.0,48.7,14.2,37.7,9.5,5.7,50.5,24.3,45.2,34.6,30.7,49.3,25.6,7.4,5.4,84.8,21.6,19.4,57.6,6.4,18.4,47.4,17.0,12.8,13.1,41.8,20.3,35.2,23.7,17.6,8.3,27.4,29.7,71.8,30.0,19.6,26.6,18.2,3.7,23.4,5.8,6.0,31.6,3.6,6.0,13.8,8.1,6.4,66.2,8.7],\"type\":\"box\",\"xaxis\":\"x3\",\"yaxis\":\"y3\"}],                        {\"template\":{\"data\":{\"histogram2dcontour\":[{\"type\":\"histogram2dcontour\",\"colorbar\":{\"outlinewidth\":0,\"ticks\":\"\"},\"colorscale\":[[0.0,\"#0d0887\"],[0.1111111111111111,\"#46039f\"],[0.2222222222222222,\"#7201a8\"],[0.3333333333333333,\"#9c179e\"],[0.4444444444444444,\"#bd3786\"],[0.5555555555555556,\"#d8576b\"],[0.6666666666666666,\"#ed7953\"],[0.7777777777777778,\"#fb9f3a\"],[0.8888888888888888,\"#fdca26\"],[1.0,\"#f0f921\"]]}],\"choropleth\":[{\"type\":\"choropleth\",\"colorbar\":{\"outlinewidth\":0,\"ticks\":\"\"}}],\"histogram2d\":[{\"type\":\"histogram2d\",\"colorbar\":{\"outlinewidth\":0,\"ticks\":\"\"},\"colorscale\":[[0.0,\"#0d0887\"],[0.1111111111111111,\"#46039f\"],[0.2222222222222222,\"#7201a8\"],[0.3333333333333333,\"#9c179e\"],[0.4444444444444444,\"#bd3786\"],[0.5555555555555556,\"#d8576b\"],[0.6666666666666666,\"#ed7953\"],[0.7777777777777778,\"#fb9f3a\"],[0.8888888888888888,\"#fdca26\"],[1.0,\"#f0f921\"]]}],\"heatmap\":[{\"type\":\"heatmap\",\"colorbar\":{\"outlinewidth\":0,\"ticks\":\"\"},\"colorscale\":[[0.0,\"#0d0887\"],[0.1111111111111111,\"#46039f\"],[0.2222222222222222,\"#7201a8\"],[0.3333333333333333,\"#9c179e\"],[0.4444444444444444,\"#bd3786\"],[0.5555555555555556,\"#d8576b\"],[0.6666666666666666,\"#ed7953\"],[0.7777777777777778,\"#fb9f3a\"],[0.8888888888888888,\"#fdca26\"],[1.0,\"#f0f921\"]]}],\"heatmapgl\":[{\"type\":\"heatmapgl\",\"colorbar\":{\"outlinewidth\":0,\"ticks\":\"\"},\"colorscale\":[[0.0,\"#0d0887\"],[0.1111111111111111,\"#46039f\"],[0.2222222222222222,\"#7201a8\"],[0.3333333333333333,\"#9c179e\"],[0.4444444444444444,\"#bd3786\"],[0.5555555555555556,\"#d8576b\"],[0.6666666666666666,\"#ed7953\"],[0.7777777777777778,\"#fb9f3a\"],[0.8888888888888888,\"#fdca26\"],[1.0,\"#f0f921\"]]}],\"contourcarpet\":[{\"type\":\"contourcarpet\",\"colorbar\":{\"outlinewidth\":0,\"ticks\":\"\"}}],\"contour\":[{\"type\":\"contour\",\"colorbar\":{\"outlinewidth\":0,\"ticks\":\"\"},\"colorscale\":[[0.0,\"#0d0887\"],[0.1111111111111111,\"#46039f\"],[0.2222222222222222,\"#7201a8\"],[0.3333333333333333,\"#9c179e\"],[0.4444444444444444,\"#bd3786\"],[0.5555555555555556,\"#d8576b\"],[0.6666666666666666,\"#ed7953\"],[0.7777777777777778,\"#fb9f3a\"],[0.8888888888888888,\"#fdca26\"],[1.0,\"#f0f921\"]]}],\"surface\":[{\"type\":\"surface\",\"colorbar\":{\"outlinewidth\":0,\"ticks\":\"\"},\"colorscale\":[[0.0,\"#0d0887\"],[0.1111111111111111,\"#46039f\"],[0.2222222222222222,\"#7201a8\"],[0.3333333333333333,\"#9c179e\"],[0.4444444444444444,\"#bd3786\"],[0.5555555555555556,\"#d8576b\"],[0.6666666666666666,\"#ed7953\"],[0.7777777777777778,\"#fb9f3a\"],[0.8888888888888888,\"#fdca26\"],[1.0,\"#f0f921\"]]}],\"mesh3d\":[{\"type\":\"mesh3d\",\"colorbar\":{\"outlinewidth\":0,\"ticks\":\"\"}}],\"scatter\":[{\"fillpattern\":{\"fillmode\":\"overlay\",\"size\":10,\"solidity\":0.2},\"type\":\"scatter\"}],\"parcoords\":[{\"type\":\"parcoords\",\"line\":{\"colorbar\":{\"outlinewidth\":0,\"ticks\":\"\"}}}],\"scatterpolargl\":[{\"type\":\"scatterpolargl\",\"marker\":{\"colorbar\":{\"outlinewidth\":0,\"ticks\":\"\"}}}],\"bar\":[{\"error_x\":{\"color\":\"#2a3f5f\"},\"error_y\":{\"color\":\"#2a3f5f\"},\"marker\":{\"line\":{\"color\":\"#E5ECF6\",\"width\":0.5},\"pattern\":{\"fillmode\":\"overlay\",\"size\":10,\"solidity\":0.2}},\"type\":\"bar\"}],\"scattergeo\":[{\"type\":\"scattergeo\",\"marker\":{\"colorbar\":{\"outlinewidth\":0,\"ticks\":\"\"}}}],\"scatterpolar\":[{\"type\":\"scatterpolar\",\"marker\":{\"colorbar\":{\"outlinewidth\":0,\"ticks\":\"\"}}}],\"histogram\":[{\"marker\":{\"pattern\":{\"fillmode\":\"overlay\",\"size\":10,\"solidity\":0.2}},\"type\":\"histogram\"}],\"scattergl\":[{\"type\":\"scattergl\",\"marker\":{\"colorbar\":{\"outlinewidth\":0,\"ticks\":\"\"}}}],\"scatter3d\":[{\"type\":\"scatter3d\",\"line\":{\"colorbar\":{\"outlinewidth\":0,\"ticks\":\"\"}},\"marker\":{\"colorbar\":{\"outlinewidth\":0,\"ticks\":\"\"}}}],\"scattermapbox\":[{\"type\":\"scattermapbox\",\"marker\":{\"colorbar\":{\"outlinewidth\":0,\"ticks\":\"\"}}}],\"scatterternary\":[{\"type\":\"scatterternary\",\"marker\":{\"colorbar\":{\"outlinewidth\":0,\"ticks\":\"\"}}}],\"scattercarpet\":[{\"type\":\"scattercarpet\",\"marker\":{\"colorbar\":{\"outlinewidth\":0,\"ticks\":\"\"}}}],\"carpet\":[{\"aaxis\":{\"endlinecolor\":\"#2a3f5f\",\"gridcolor\":\"white\",\"linecolor\":\"white\",\"minorgridcolor\":\"white\",\"startlinecolor\":\"#2a3f5f\"},\"baxis\":{\"endlinecolor\":\"#2a3f5f\",\"gridcolor\":\"white\",\"linecolor\":\"white\",\"minorgridcolor\":\"white\",\"startlinecolor\":\"#2a3f5f\"},\"type\":\"carpet\"}],\"table\":[{\"cells\":{\"fill\":{\"color\":\"#EBF0F8\"},\"line\":{\"color\":\"white\"}},\"header\":{\"fill\":{\"color\":\"#C8D4E3\"},\"line\":{\"color\":\"white\"}},\"type\":\"table\"}],\"barpolar\":[{\"marker\":{\"line\":{\"color\":\"#E5ECF6\",\"width\":0.5},\"pattern\":{\"fillmode\":\"overlay\",\"size\":10,\"solidity\":0.2}},\"type\":\"barpolar\"}],\"pie\":[{\"automargin\":true,\"type\":\"pie\"}]},\"layout\":{\"autotypenumbers\":\"strict\",\"colorway\":[\"#636efa\",\"#EF553B\",\"#00cc96\",\"#ab63fa\",\"#FFA15A\",\"#19d3f3\",\"#FF6692\",\"#B6E880\",\"#FF97FF\",\"#FECB52\"],\"font\":{\"color\":\"#2a3f5f\"},\"hovermode\":\"closest\",\"hoverlabel\":{\"align\":\"left\"},\"paper_bgcolor\":\"white\",\"plot_bgcolor\":\"#E5ECF6\",\"polar\":{\"bgcolor\":\"#E5ECF6\",\"angularaxis\":{\"gridcolor\":\"white\",\"linecolor\":\"white\",\"ticks\":\"\"},\"radialaxis\":{\"gridcolor\":\"white\",\"linecolor\":\"white\",\"ticks\":\"\"}},\"ternary\":{\"bgcolor\":\"#E5ECF6\",\"aaxis\":{\"gridcolor\":\"white\",\"linecolor\":\"white\",\"ticks\":\"\"},\"baxis\":{\"gridcolor\":\"white\",\"linecolor\":\"white\",\"ticks\":\"\"},\"caxis\":{\"gridcolor\":\"white\",\"linecolor\":\"white\",\"ticks\":\"\"}},\"coloraxis\":{\"colorbar\":{\"outlinewidth\":0,\"ticks\":\"\"}},\"colorscale\":{\"sequential\":[[0.0,\"#0d0887\"],[0.1111111111111111,\"#46039f\"],[0.2222222222222222,\"#7201a8\"],[0.3333333333333333,\"#9c179e\"],[0.4444444444444444,\"#bd3786\"],[0.5555555555555556,\"#d8576b\"],[0.6666666666666666,\"#ed7953\"],[0.7777777777777778,\"#fb9f3a\"],[0.8888888888888888,\"#fdca26\"],[1.0,\"#f0f921\"]],\"sequentialminus\":[[0.0,\"#0d0887\"],[0.1111111111111111,\"#46039f\"],[0.2222222222222222,\"#7201a8\"],[0.3333333333333333,\"#9c179e\"],[0.4444444444444444,\"#bd3786\"],[0.5555555555555556,\"#d8576b\"],[0.6666666666666666,\"#ed7953\"],[0.7777777777777778,\"#fb9f3a\"],[0.8888888888888888,\"#fdca26\"],[1.0,\"#f0f921\"]],\"diverging\":[[0,\"#8e0152\"],[0.1,\"#c51b7d\"],[0.2,\"#de77ae\"],[0.3,\"#f1b6da\"],[0.4,\"#fde0ef\"],[0.5,\"#f7f7f7\"],[0.6,\"#e6f5d0\"],[0.7,\"#b8e186\"],[0.8,\"#7fbc41\"],[0.9,\"#4d9221\"],[1,\"#276419\"]]},\"xaxis\":{\"gridcolor\":\"white\",\"linecolor\":\"white\",\"ticks\":\"\",\"title\":{\"standoff\":15},\"zerolinecolor\":\"white\",\"automargin\":true,\"zerolinewidth\":2},\"yaxis\":{\"gridcolor\":\"white\",\"linecolor\":\"white\",\"ticks\":\"\",\"title\":{\"standoff\":15},\"zerolinecolor\":\"white\",\"automargin\":true,\"zerolinewidth\":2},\"scene\":{\"xaxis\":{\"backgroundcolor\":\"#E5ECF6\",\"gridcolor\":\"white\",\"linecolor\":\"white\",\"showbackground\":true,\"ticks\":\"\",\"zerolinecolor\":\"white\",\"gridwidth\":2},\"yaxis\":{\"backgroundcolor\":\"#E5ECF6\",\"gridcolor\":\"white\",\"linecolor\":\"white\",\"showbackground\":true,\"ticks\":\"\",\"zerolinecolor\":\"white\",\"gridwidth\":2},\"zaxis\":{\"backgroundcolor\":\"#E5ECF6\",\"gridcolor\":\"white\",\"linecolor\":\"white\",\"showbackground\":true,\"ticks\":\"\",\"zerolinecolor\":\"white\",\"gridwidth\":2}},\"shapedefaults\":{\"line\":{\"color\":\"#2a3f5f\"}},\"annotationdefaults\":{\"arrowcolor\":\"#2a3f5f\",\"arrowhead\":0,\"arrowwidth\":1},\"geo\":{\"bgcolor\":\"white\",\"landcolor\":\"#E5ECF6\",\"subunitcolor\":\"white\",\"showland\":true,\"showlakes\":true,\"lakecolor\":\"white\"},\"title\":{\"x\":0.05},\"mapbox\":{\"style\":\"light\"}}},\"xaxis\":{\"anchor\":\"y\",\"domain\":[0.0,1.0]},\"yaxis\":{\"anchor\":\"x\",\"domain\":[0.7777777777777778,1.0]},\"xaxis2\":{\"anchor\":\"y2\",\"domain\":[0.0,1.0]},\"yaxis2\":{\"anchor\":\"x2\",\"domain\":[0.3888888888888889,0.6111111111111112]},\"xaxis3\":{\"anchor\":\"y3\",\"domain\":[0.0,1.0]},\"yaxis3\":{\"anchor\":\"x3\",\"domain\":[0.0,0.22222222222222224]},\"annotations\":[{\"font\":{\"size\":16},\"showarrow\":false,\"text\":\"TV\",\"x\":0.5,\"xanchor\":\"center\",\"xref\":\"paper\",\"y\":1.0,\"yanchor\":\"bottom\",\"yref\":\"paper\"},{\"font\":{\"size\":16},\"showarrow\":false,\"text\":\"Radio\",\"x\":0.5,\"xanchor\":\"center\",\"xref\":\"paper\",\"y\":0.6111111111111112,\"yanchor\":\"bottom\",\"yref\":\"paper\"},{\"font\":{\"size\":16},\"showarrow\":false,\"text\":\"Newspaper\",\"x\":0.5,\"xanchor\":\"center\",\"xref\":\"paper\",\"y\":0.22222222222222224,\"yanchor\":\"bottom\",\"yref\":\"paper\"}],\"title\":{\"text\":\"Boxplots of Numerical Data\"},\"height\":800,\"width\":800},                        {\"responsive\": true}                    ).then(function(){\n",
       "                            \n",
       "var gd = document.getElementById('06833767-767e-4229-8c4d-faf0a5ceeed4');\n",
       "var x = new MutationObserver(function (mutations, observer) {{\n",
       "        var display = window.getComputedStyle(gd).display;\n",
       "        if (!display || display === 'none') {{\n",
       "            console.log([gd, 'removed!']);\n",
       "            Plotly.purge(gd);\n",
       "            observer.disconnect();\n",
       "        }}\n",
       "}});\n",
       "\n",
       "// Listen for the removal of the full notebook cells\n",
       "var notebookContainer = gd.closest('#notebook-container');\n",
       "if (notebookContainer) {{\n",
       "    x.observe(notebookContainer, {childList: true});\n",
       "}}\n",
       "\n",
       "// Listen for the clearing of the current output cell\n",
       "var outputEl = gd.closest('.output');\n",
       "if (outputEl) {{\n",
       "    x.observe(outputEl, {childList: true});\n",
       "}}\n",
       "\n",
       "                        })                };                });            </script>        </div>"
      ]
     },
     "metadata": {},
     "output_type": "display_data"
    }
   ],
   "source": [
    "import plotly.graph_objs as go\n",
    "import plotly.subplots as sp\n",
    "# create a list of column names with numerical data\n",
    "numerical_cols =['TV', 'Radio', 'Newspaper']\n",
    "\n",
    "# create a grid of boxplots for each numerical colum\n",
    "\n",
    "fig = sp.make_subplots(rows=len(numerical_cols), cols=1, subplot_titles=numerical_cols)\n",
    "for i, col in enumerate(numerical_cols):\n",
    "    fig.add_trace(go.Box(x=df[col], name=col, boxmean=True), row=i+1, col=1)\n",
    "\n",
    "# update the plot layout\n",
    "fig.update_layout(title=\"Boxplots of Numerical Data\", height=800, width=800)\n",
    "\n",
    "# show the plot\n",
    "fig.show()"
   ]
  },
  {
   "cell_type": "code",
   "execution_count": 13,
   "id": "10074fbc",
   "metadata": {
    "execution": {
     "iopub.execute_input": "2023-08-29T05:07:40.993650Z",
     "iopub.status.busy": "2023-08-29T05:07:40.993240Z",
     "iopub.status.idle": "2023-08-29T05:07:41.056171Z",
     "shell.execute_reply": "2023-08-29T05:07:41.054528Z"
    },
    "papermill": {
     "duration": 0.083722,
     "end_time": "2023-08-29T05:07:41.059401",
     "exception": false,
     "start_time": "2023-08-29T05:07:40.975679",
     "status": "completed"
    },
    "tags": []
   },
   "outputs": [
    {
     "data": {
      "text/html": [
       "<div>                            <div id=\"3c5c99cc-fb86-4d79-bb99-01e870fcbfba\" class=\"plotly-graph-div\" style=\"height:800px; width:800px;\"></div>            <script type=\"text/javascript\">                require([\"plotly\"], function(Plotly) {                    window.PLOTLYENV=window.PLOTLYENV || {};                                    if (document.getElementById(\"3c5c99cc-fb86-4d79-bb99-01e870fcbfba\")) {                    Plotly.newPlot(                        \"3c5c99cc-fb86-4d79-bb99-01e870fcbfba\",                        [{\"name\":\"TV\",\"nbinsx\":20,\"x\":[230.1,44.5,17.2,151.5,180.8,8.7,57.5,120.2,8.6,199.8,66.1,214.7,23.8,97.5,204.1,195.4,67.8,281.4,69.2,147.3,218.4,237.4,13.2,228.3,62.3,262.9,142.9,240.1,248.8,70.6,292.9,112.9,97.2,265.6,95.7,290.7,266.9,74.7,43.1,228.0,202.5,177.0,293.6,206.9,25.1,175.1,89.7,239.9,227.2,66.9,199.8,100.4,216.4,182.6,262.7,198.9,7.3,136.2,210.8,210.7,53.5,261.3,239.3,102.7,131.1,69.0,31.5,139.3,237.4,216.8,199.1,109.8,26.8,129.4,213.4,16.9,27.5,120.5,5.4,116.0,76.4,239.8,75.3,68.4,213.5,193.2,76.3,110.7,88.3,109.8,134.3,28.6,217.7,250.9,107.4,163.3,197.6,184.9,289.7,135.2,222.4,296.4,280.2,187.9,238.2,137.9,25.0,90.4,13.1,255.4,225.8,241.7,175.7,209.6,78.2,75.1,139.2,76.4,125.7,19.4,141.3,18.8,224.0,123.1,229.5,87.2,7.8,80.2,220.3,59.6,0.7,265.2,8.4,219.8,36.9,48.3,25.6,273.7,43.0,184.9,73.4,193.7,220.5,104.6,96.2,140.3,240.1,243.2,38.0,44.7,280.7,121.0,197.6,171.3,187.8,4.1,93.9,149.8,11.7,131.7,172.5,85.7,188.4,163.5,117.2,234.5,17.9,206.8,215.4,284.3,50.0,164.5,19.6,168.4,222.4,276.9,248.4,170.2,276.7,165.6,156.6,218.5,56.2,287.6,253.8,205.0,139.5,191.1,286.0,18.7,39.5,75.5,17.2,166.8,149.7,38.2,94.2,177.0,283.6,232.1],\"type\":\"histogram\",\"xaxis\":\"x\",\"yaxis\":\"y\"},{\"name\":\"Radio\",\"nbinsx\":20,\"x\":[37.8,39.3,45.9,41.3,10.8,48.9,32.8,19.6,2.1,2.6,5.8,24.0,35.1,7.6,32.9,47.7,36.6,39.6,20.5,23.9,27.7,5.1,15.9,16.9,12.6,3.5,29.3,16.7,27.1,16.0,28.3,17.4,1.5,20.0,1.4,4.1,43.8,49.4,26.7,37.7,22.3,33.4,27.7,8.4,25.7,22.5,9.9,41.5,15.8,11.7,3.1,9.6,41.7,46.2,28.8,49.4,28.1,19.2,49.6,29.5,2.0,42.7,15.5,29.6,42.8,9.3,24.6,14.5,27.5,43.9,30.6,14.3,33.0,5.7,24.6,43.7,1.6,28.5,29.9,7.7,26.7,4.1,20.3,44.5,43.0,18.4,27.5,40.6,25.5,47.8,4.9,1.5,33.5,36.5,14.0,31.6,3.5,21.0,42.3,41.7,4.3,36.3,10.1,17.2,34.3,46.4,11.0,0.3,0.4,26.9,8.2,38.0,15.4,20.6,46.8,35.0,14.3,0.8,36.9,16.0,26.8,21.7,2.4,34.6,32.3,11.8,38.9,0.0,49.0,12.0,39.6,2.9,27.2,33.5,38.6,47.0,39.0,28.9,25.9,43.9,17.0,35.4,33.2,5.7,14.8,1.9,7.3,49.0,40.3,25.8,13.9,8.4,23.3,39.7,21.1,11.6,43.5,1.3,36.9,18.4,18.1,35.8,18.1,36.8,14.7,3.4,37.6,5.2,23.6,10.6,11.6,20.9,20.1,7.1,3.4,48.9,30.2,7.8,2.3,10.0,2.6,5.4,5.7,43.0,21.3,45.1,2.1,28.7,13.9,12.1,41.1,10.8,4.1,42.0,35.6,3.7,4.9,9.3,42.0,8.6],\"type\":\"histogram\",\"xaxis\":\"x2\",\"yaxis\":\"y2\"},{\"name\":\"Newspaper\",\"nbinsx\":20,\"x\":[69.2,45.1,69.3,58.5,58.4,75.0,23.5,11.6,1.0,21.2,24.2,4.0,65.9,7.2,46.0,52.9,114.0,55.8,18.3,19.1,53.4,23.5,49.6,26.2,18.3,19.5,12.6,22.9,22.9,40.8,43.2,38.6,30.0,0.3,7.4,8.5,5.0,45.7,35.1,32.0,31.6,38.7,1.8,26.4,43.3,31.5,35.7,18.5,49.9,36.8,34.6,3.6,39.6,58.7,15.9,60.0,41.4,16.6,37.7,9.3,21.4,54.7,27.3,8.4,28.9,0.9,2.2,10.2,11.0,27.2,38.7,31.7,19.3,31.3,13.1,89.4,20.7,14.2,9.4,23.1,22.3,36.9,32.5,35.6,33.8,65.7,16.0,63.2,73.4,51.4,9.3,33.0,59.0,72.3,10.9,52.9,5.9,22.0,51.2,45.9,49.8,100.9,21.4,17.9,5.3,59.0,29.7,23.2,25.6,5.5,56.5,23.2,2.4,10.7,34.5,52.7,25.6,14.8,79.2,22.3,46.2,50.4,15.6,12.4,74.2,25.9,50.6,9.2,3.2,43.1,8.7,43.0,2.1,45.1,65.6,8.5,9.3,59.7,20.5,1.7,12.9,75.6,37.9,34.4,38.9,9.0,8.7,44.3,11.9,20.6,37.0,48.7,14.2,37.7,9.5,5.7,50.5,24.3,45.2,34.6,30.7,49.3,25.6,7.4,5.4,84.8,21.6,19.4,57.6,6.4,18.4,47.4,17.0,12.8,13.1,41.8,20.3,35.2,23.7,17.6,8.3,27.4,29.7,71.8,30.0,19.6,26.6,18.2,3.7,23.4,5.8,6.0,31.6,3.6,6.0,13.8,8.1,6.4,66.2,8.7],\"type\":\"histogram\",\"xaxis\":\"x3\",\"yaxis\":\"y3\"}],                        {\"template\":{\"data\":{\"histogram2dcontour\":[{\"type\":\"histogram2dcontour\",\"colorbar\":{\"outlinewidth\":0,\"ticks\":\"\"},\"colorscale\":[[0.0,\"#0d0887\"],[0.1111111111111111,\"#46039f\"],[0.2222222222222222,\"#7201a8\"],[0.3333333333333333,\"#9c179e\"],[0.4444444444444444,\"#bd3786\"],[0.5555555555555556,\"#d8576b\"],[0.6666666666666666,\"#ed7953\"],[0.7777777777777778,\"#fb9f3a\"],[0.8888888888888888,\"#fdca26\"],[1.0,\"#f0f921\"]]}],\"choropleth\":[{\"type\":\"choropleth\",\"colorbar\":{\"outlinewidth\":0,\"ticks\":\"\"}}],\"histogram2d\":[{\"type\":\"histogram2d\",\"colorbar\":{\"outlinewidth\":0,\"ticks\":\"\"},\"colorscale\":[[0.0,\"#0d0887\"],[0.1111111111111111,\"#46039f\"],[0.2222222222222222,\"#7201a8\"],[0.3333333333333333,\"#9c179e\"],[0.4444444444444444,\"#bd3786\"],[0.5555555555555556,\"#d8576b\"],[0.6666666666666666,\"#ed7953\"],[0.7777777777777778,\"#fb9f3a\"],[0.8888888888888888,\"#fdca26\"],[1.0,\"#f0f921\"]]}],\"heatmap\":[{\"type\":\"heatmap\",\"colorbar\":{\"outlinewidth\":0,\"ticks\":\"\"},\"colorscale\":[[0.0,\"#0d0887\"],[0.1111111111111111,\"#46039f\"],[0.2222222222222222,\"#7201a8\"],[0.3333333333333333,\"#9c179e\"],[0.4444444444444444,\"#bd3786\"],[0.5555555555555556,\"#d8576b\"],[0.6666666666666666,\"#ed7953\"],[0.7777777777777778,\"#fb9f3a\"],[0.8888888888888888,\"#fdca26\"],[1.0,\"#f0f921\"]]}],\"heatmapgl\":[{\"type\":\"heatmapgl\",\"colorbar\":{\"outlinewidth\":0,\"ticks\":\"\"},\"colorscale\":[[0.0,\"#0d0887\"],[0.1111111111111111,\"#46039f\"],[0.2222222222222222,\"#7201a8\"],[0.3333333333333333,\"#9c179e\"],[0.4444444444444444,\"#bd3786\"],[0.5555555555555556,\"#d8576b\"],[0.6666666666666666,\"#ed7953\"],[0.7777777777777778,\"#fb9f3a\"],[0.8888888888888888,\"#fdca26\"],[1.0,\"#f0f921\"]]}],\"contourcarpet\":[{\"type\":\"contourcarpet\",\"colorbar\":{\"outlinewidth\":0,\"ticks\":\"\"}}],\"contour\":[{\"type\":\"contour\",\"colorbar\":{\"outlinewidth\":0,\"ticks\":\"\"},\"colorscale\":[[0.0,\"#0d0887\"],[0.1111111111111111,\"#46039f\"],[0.2222222222222222,\"#7201a8\"],[0.3333333333333333,\"#9c179e\"],[0.4444444444444444,\"#bd3786\"],[0.5555555555555556,\"#d8576b\"],[0.6666666666666666,\"#ed7953\"],[0.7777777777777778,\"#fb9f3a\"],[0.8888888888888888,\"#fdca26\"],[1.0,\"#f0f921\"]]}],\"surface\":[{\"type\":\"surface\",\"colorbar\":{\"outlinewidth\":0,\"ticks\":\"\"},\"colorscale\":[[0.0,\"#0d0887\"],[0.1111111111111111,\"#46039f\"],[0.2222222222222222,\"#7201a8\"],[0.3333333333333333,\"#9c179e\"],[0.4444444444444444,\"#bd3786\"],[0.5555555555555556,\"#d8576b\"],[0.6666666666666666,\"#ed7953\"],[0.7777777777777778,\"#fb9f3a\"],[0.8888888888888888,\"#fdca26\"],[1.0,\"#f0f921\"]]}],\"mesh3d\":[{\"type\":\"mesh3d\",\"colorbar\":{\"outlinewidth\":0,\"ticks\":\"\"}}],\"scatter\":[{\"fillpattern\":{\"fillmode\":\"overlay\",\"size\":10,\"solidity\":0.2},\"type\":\"scatter\"}],\"parcoords\":[{\"type\":\"parcoords\",\"line\":{\"colorbar\":{\"outlinewidth\":0,\"ticks\":\"\"}}}],\"scatterpolargl\":[{\"type\":\"scatterpolargl\",\"marker\":{\"colorbar\":{\"outlinewidth\":0,\"ticks\":\"\"}}}],\"bar\":[{\"error_x\":{\"color\":\"#2a3f5f\"},\"error_y\":{\"color\":\"#2a3f5f\"},\"marker\":{\"line\":{\"color\":\"#E5ECF6\",\"width\":0.5},\"pattern\":{\"fillmode\":\"overlay\",\"size\":10,\"solidity\":0.2}},\"type\":\"bar\"}],\"scattergeo\":[{\"type\":\"scattergeo\",\"marker\":{\"colorbar\":{\"outlinewidth\":0,\"ticks\":\"\"}}}],\"scatterpolar\":[{\"type\":\"scatterpolar\",\"marker\":{\"colorbar\":{\"outlinewidth\":0,\"ticks\":\"\"}}}],\"histogram\":[{\"marker\":{\"pattern\":{\"fillmode\":\"overlay\",\"size\":10,\"solidity\":0.2}},\"type\":\"histogram\"}],\"scattergl\":[{\"type\":\"scattergl\",\"marker\":{\"colorbar\":{\"outlinewidth\":0,\"ticks\":\"\"}}}],\"scatter3d\":[{\"type\":\"scatter3d\",\"line\":{\"colorbar\":{\"outlinewidth\":0,\"ticks\":\"\"}},\"marker\":{\"colorbar\":{\"outlinewidth\":0,\"ticks\":\"\"}}}],\"scattermapbox\":[{\"type\":\"scattermapbox\",\"marker\":{\"colorbar\":{\"outlinewidth\":0,\"ticks\":\"\"}}}],\"scatterternary\":[{\"type\":\"scatterternary\",\"marker\":{\"colorbar\":{\"outlinewidth\":0,\"ticks\":\"\"}}}],\"scattercarpet\":[{\"type\":\"scattercarpet\",\"marker\":{\"colorbar\":{\"outlinewidth\":0,\"ticks\":\"\"}}}],\"carpet\":[{\"aaxis\":{\"endlinecolor\":\"#2a3f5f\",\"gridcolor\":\"white\",\"linecolor\":\"white\",\"minorgridcolor\":\"white\",\"startlinecolor\":\"#2a3f5f\"},\"baxis\":{\"endlinecolor\":\"#2a3f5f\",\"gridcolor\":\"white\",\"linecolor\":\"white\",\"minorgridcolor\":\"white\",\"startlinecolor\":\"#2a3f5f\"},\"type\":\"carpet\"}],\"table\":[{\"cells\":{\"fill\":{\"color\":\"#EBF0F8\"},\"line\":{\"color\":\"white\"}},\"header\":{\"fill\":{\"color\":\"#C8D4E3\"},\"line\":{\"color\":\"white\"}},\"type\":\"table\"}],\"barpolar\":[{\"marker\":{\"line\":{\"color\":\"#E5ECF6\",\"width\":0.5},\"pattern\":{\"fillmode\":\"overlay\",\"size\":10,\"solidity\":0.2}},\"type\":\"barpolar\"}],\"pie\":[{\"automargin\":true,\"type\":\"pie\"}]},\"layout\":{\"autotypenumbers\":\"strict\",\"colorway\":[\"#636efa\",\"#EF553B\",\"#00cc96\",\"#ab63fa\",\"#FFA15A\",\"#19d3f3\",\"#FF6692\",\"#B6E880\",\"#FF97FF\",\"#FECB52\"],\"font\":{\"color\":\"#2a3f5f\"},\"hovermode\":\"closest\",\"hoverlabel\":{\"align\":\"left\"},\"paper_bgcolor\":\"white\",\"plot_bgcolor\":\"#E5ECF6\",\"polar\":{\"bgcolor\":\"#E5ECF6\",\"angularaxis\":{\"gridcolor\":\"white\",\"linecolor\":\"white\",\"ticks\":\"\"},\"radialaxis\":{\"gridcolor\":\"white\",\"linecolor\":\"white\",\"ticks\":\"\"}},\"ternary\":{\"bgcolor\":\"#E5ECF6\",\"aaxis\":{\"gridcolor\":\"white\",\"linecolor\":\"white\",\"ticks\":\"\"},\"baxis\":{\"gridcolor\":\"white\",\"linecolor\":\"white\",\"ticks\":\"\"},\"caxis\":{\"gridcolor\":\"white\",\"linecolor\":\"white\",\"ticks\":\"\"}},\"coloraxis\":{\"colorbar\":{\"outlinewidth\":0,\"ticks\":\"\"}},\"colorscale\":{\"sequential\":[[0.0,\"#0d0887\"],[0.1111111111111111,\"#46039f\"],[0.2222222222222222,\"#7201a8\"],[0.3333333333333333,\"#9c179e\"],[0.4444444444444444,\"#bd3786\"],[0.5555555555555556,\"#d8576b\"],[0.6666666666666666,\"#ed7953\"],[0.7777777777777778,\"#fb9f3a\"],[0.8888888888888888,\"#fdca26\"],[1.0,\"#f0f921\"]],\"sequentialminus\":[[0.0,\"#0d0887\"],[0.1111111111111111,\"#46039f\"],[0.2222222222222222,\"#7201a8\"],[0.3333333333333333,\"#9c179e\"],[0.4444444444444444,\"#bd3786\"],[0.5555555555555556,\"#d8576b\"],[0.6666666666666666,\"#ed7953\"],[0.7777777777777778,\"#fb9f3a\"],[0.8888888888888888,\"#fdca26\"],[1.0,\"#f0f921\"]],\"diverging\":[[0,\"#8e0152\"],[0.1,\"#c51b7d\"],[0.2,\"#de77ae\"],[0.3,\"#f1b6da\"],[0.4,\"#fde0ef\"],[0.5,\"#f7f7f7\"],[0.6,\"#e6f5d0\"],[0.7,\"#b8e186\"],[0.8,\"#7fbc41\"],[0.9,\"#4d9221\"],[1,\"#276419\"]]},\"xaxis\":{\"gridcolor\":\"white\",\"linecolor\":\"white\",\"ticks\":\"\",\"title\":{\"standoff\":15},\"zerolinecolor\":\"white\",\"automargin\":true,\"zerolinewidth\":2},\"yaxis\":{\"gridcolor\":\"white\",\"linecolor\":\"white\",\"ticks\":\"\",\"title\":{\"standoff\":15},\"zerolinecolor\":\"white\",\"automargin\":true,\"zerolinewidth\":2},\"scene\":{\"xaxis\":{\"backgroundcolor\":\"#E5ECF6\",\"gridcolor\":\"white\",\"linecolor\":\"white\",\"showbackground\":true,\"ticks\":\"\",\"zerolinecolor\":\"white\",\"gridwidth\":2},\"yaxis\":{\"backgroundcolor\":\"#E5ECF6\",\"gridcolor\":\"white\",\"linecolor\":\"white\",\"showbackground\":true,\"ticks\":\"\",\"zerolinecolor\":\"white\",\"gridwidth\":2},\"zaxis\":{\"backgroundcolor\":\"#E5ECF6\",\"gridcolor\":\"white\",\"linecolor\":\"white\",\"showbackground\":true,\"ticks\":\"\",\"zerolinecolor\":\"white\",\"gridwidth\":2}},\"shapedefaults\":{\"line\":{\"color\":\"#2a3f5f\"}},\"annotationdefaults\":{\"arrowcolor\":\"#2a3f5f\",\"arrowhead\":0,\"arrowwidth\":1},\"geo\":{\"bgcolor\":\"white\",\"landcolor\":\"#E5ECF6\",\"subunitcolor\":\"white\",\"showland\":true,\"showlakes\":true,\"lakecolor\":\"white\"},\"title\":{\"x\":0.05},\"mapbox\":{\"style\":\"light\"}}},\"xaxis\":{\"anchor\":\"y\",\"domain\":[0.0,1.0]},\"yaxis\":{\"anchor\":\"x\",\"domain\":[0.7777777777777778,1.0]},\"xaxis2\":{\"anchor\":\"y2\",\"domain\":[0.0,1.0]},\"yaxis2\":{\"anchor\":\"x2\",\"domain\":[0.3888888888888889,0.6111111111111112]},\"xaxis3\":{\"anchor\":\"y3\",\"domain\":[0.0,1.0]},\"yaxis3\":{\"anchor\":\"x3\",\"domain\":[0.0,0.22222222222222224]},\"annotations\":[{\"font\":{\"size\":16},\"showarrow\":false,\"text\":\"TV\",\"x\":0.5,\"xanchor\":\"center\",\"xref\":\"paper\",\"y\":1.0,\"yanchor\":\"bottom\",\"yref\":\"paper\"},{\"font\":{\"size\":16},\"showarrow\":false,\"text\":\"Radio\",\"x\":0.5,\"xanchor\":\"center\",\"xref\":\"paper\",\"y\":0.6111111111111112,\"yanchor\":\"bottom\",\"yref\":\"paper\"},{\"font\":{\"size\":16},\"showarrow\":false,\"text\":\"Newspaper\",\"x\":0.5,\"xanchor\":\"center\",\"xref\":\"paper\",\"y\":0.22222222222222224,\"yanchor\":\"bottom\",\"yref\":\"paper\"}],\"title\":{\"text\":\"Histogram of Numerical Data\"},\"height\":800,\"width\":800},                        {\"responsive\": true}                    ).then(function(){\n",
       "                            \n",
       "var gd = document.getElementById('3c5c99cc-fb86-4d79-bb99-01e870fcbfba');\n",
       "var x = new MutationObserver(function (mutations, observer) {{\n",
       "        var display = window.getComputedStyle(gd).display;\n",
       "        if (!display || display === 'none') {{\n",
       "            console.log([gd, 'removed!']);\n",
       "            Plotly.purge(gd);\n",
       "            observer.disconnect();\n",
       "        }}\n",
       "}});\n",
       "\n",
       "// Listen for the removal of the full notebook cells\n",
       "var notebookContainer = gd.closest('#notebook-container');\n",
       "if (notebookContainer) {{\n",
       "    x.observe(notebookContainer, {childList: true});\n",
       "}}\n",
       "\n",
       "// Listen for the clearing of the current output cell\n",
       "var outputEl = gd.closest('.output');\n",
       "if (outputEl) {{\n",
       "    x.observe(outputEl, {childList: true});\n",
       "}}\n",
       "\n",
       "                        })                };                });            </script>        </div>"
      ]
     },
     "metadata": {},
     "output_type": "display_data"
    }
   ],
   "source": [
    "fig = sp.make_subplots(rows=len(numerical_cols), cols=1, subplot_titles=numerical_cols)\n",
    "for i, col in enumerate(numerical_cols):\n",
    "    fig.add_trace(go.Histogram(x=df[col], name=col, nbinsx=20), row=i+1, col=1)\n",
    "\n",
    "# update the plot layout\n",
    "fig.update_layout(title=\"Histogram of Numerical Data\", height=800, width=800)\n",
    "\n",
    "# show the plot\n",
    "fig.show()"
   ]
  },
  {
   "cell_type": "code",
   "execution_count": 14,
   "id": "a6fbc2ed",
   "metadata": {
    "execution": {
     "iopub.execute_input": "2023-08-29T05:07:41.098075Z",
     "iopub.status.busy": "2023-08-29T05:07:41.097288Z",
     "iopub.status.idle": "2023-08-29T05:07:41.712715Z",
     "shell.execute_reply": "2023-08-29T05:07:41.711444Z"
    },
    "papermill": {
     "duration": 0.63688,
     "end_time": "2023-08-29T05:07:41.715158",
     "exception": false,
     "start_time": "2023-08-29T05:07:41.078278",
     "status": "completed"
    },
    "tags": []
   },
   "outputs": [
    {
     "data": {
      "image/png": "[encoded data removed]",
      "text/plain": [
       "<Figure size 800x600 with 2 Axes>"
      ]
     },
     "metadata": {},
     "output_type": "display_data"
    }
   ],
   "source": [
    "plt.figure(figsize=(8,6))\n",
    "sns.heatmap(df.corr(),annot=True)\n",
    "plt.show()"
   ]
  },
  {
   "cell_type": "markdown",
   "id": "827dd578",
   "metadata": {
    "papermill": {
     "duration": 0.019585,
     "end_time": "2023-08-29T05:07:41.751684",
     "exception": false,
     "start_time": "2023-08-29T05:07:41.732099",
     "status": "completed"
    },
    "tags": []
   },
   "source": [
    "# **<font color=\"7F04AA\">Splitting the Data</font>**"
   ]
  },
  {
   "cell_type": "code",
   "execution_count": 15,
   "id": "63950022",
   "metadata": {
    "execution": {
     "iopub.execute_input": "2023-08-29T05:07:41.789484Z",
     "iopub.status.busy": "2023-08-29T05:07:41.789013Z",
     "iopub.status.idle": "2023-08-29T05:07:41.798500Z",
     "shell.execute_reply": "2023-08-29T05:07:41.796930Z"
    },
    "papermill": {
     "duration": 0.032217,
     "end_time": "2023-08-29T05:07:41.800894",
     "exception": false,
     "start_time": "2023-08-29T05:07:41.768677",
     "status": "completed"
    },
    "tags": []
   },
   "outputs": [
    {
     "name": "stdout",
     "output_type": "stream",
     "text": [
      "************************************************************************************************************************************************************************************************************************************************************************************************************************************************************************************************************************************************************************************************************************************************************************************************************************************************************************************************************************************************************************************************************************************************************************************************************************************\n",
      "\u001b[1m\n",
      "  This function will divide the dataset into X and y\n",
      "  \n",
      "  \u001b[0m\n",
      "************************************************************************************************************************************************************************************************************************************************************************************************************************************************************************************************************************************************************************************************************************************************************************************************************************************************************************************************************************************************************************************************************************************************************************************************************************************\n",
      "Shape of X: (200, 3)\n",
      "Shape of y: (200,)\n"
     ]
    }
   ],
   "source": [
    "X,y = X_Y_df(df,\"Sales\")"
   ]
  },
  {
   "cell_type": "code",
   "execution_count": 16,
   "id": "083d0952",
   "metadata": {
    "execution": {
     "iopub.execute_input": "2023-08-29T05:07:41.838786Z",
     "iopub.status.busy": "2023-08-29T05:07:41.838349Z",
     "iopub.status.idle": "2023-08-29T05:07:41.847428Z",
     "shell.execute_reply": "2023-08-29T05:07:41.846117Z"
    },
    "papermill": {
     "duration": 0.032725,
     "end_time": "2023-08-29T05:07:41.850723",
     "exception": false,
     "start_time": "2023-08-29T05:07:41.817998",
     "status": "completed"
    },
    "tags": []
   },
   "outputs": [
    {
     "name": "stdout",
     "output_type": "stream",
     "text": [
      "************************************************************************************************************************************************************************************************************************************************************************************************************************************************************************************************************************************************************************************************************************************************************************************************************************************************************************************************************************************************************************************************************************************************************************************************************************************\n",
      "\u001b[1m\n",
      "  This fucntion will  split the train and test test size 30%\n",
      "  \u001b[0m\n",
      "************************************************************************************************************************************************************************************************************************************************************************************************************************************************************************************************************************************************************************************************************************************************************************************************************************************************************************************************************************************************************************************************************************************************************************************************************************************\n",
      "The Shape of X_train is: (140, 3)\n",
      "The Shape of X_test is: (60, 3)\n",
      "The Shape of y_train is: (140,)\n",
      "The Shape of y_test is: (60,)\n"
     ]
    }
   ],
   "source": [
    "X_train,X_test,y_train,y_test=Train_Test_df(X,y)"
   ]
  },
  {
   "cell_type": "code",
   "execution_count": 17,
   "id": "dfe0685f",
   "metadata": {
    "execution": {
     "iopub.execute_input": "2023-08-29T05:07:41.888147Z",
     "iopub.status.busy": "2023-08-29T05:07:41.887650Z",
     "iopub.status.idle": "2023-08-29T05:07:41.901181Z",
     "shell.execute_reply": "2023-08-29T05:07:41.899864Z"
    },
    "papermill": {
     "duration": 0.035234,
     "end_time": "2023-08-29T05:07:41.904079",
     "exception": false,
     "start_time": "2023-08-29T05:07:41.868845",
     "status": "completed"
    },
    "tags": []
   },
   "outputs": [
    {
     "name": "stdout",
     "output_type": "stream",
     "text": [
      "************************************************************************************************************************************************************************************************************************************************************************************************************************************************************************************************************************************************************************************************************************************************************************************************************************************************************************************************************************************************************************************************************************************************************************************************************************************\n",
      "\u001b[1m\n",
      "  This is the Function Written in ml_functions.py File.\n",
      "  In this Function I'm Standardizing the Numerical Data By Using \n",
      "  Standard_Scaler.\n",
      "  \u001b[0m\n",
      "************************************************************************************************************************************************************************************************************************************************************************************************************************************************************************************************************************************************************************************************************************************************************************************************************************************************************************************************************************************************************************************************************************************************************************************************************************************\n",
      "After Standardizing X_train_num  Shape is:\n",
      " (140, 3) \n",
      "\n",
      "****************************************************************************************************\n",
      "After Standardizing X_test_num Shape is:\n",
      " (60, 3) \n",
      "\n"
     ]
    }
   ],
   "source": [
    "X_train,X_test,scaler = Standard_Scaler(X_train,X_test)"
   ]
  },
  {
   "cell_type": "code",
   "execution_count": 18,
   "id": "b4c6114a",
   "metadata": {
    "execution": {
     "iopub.execute_input": "2023-08-29T05:07:41.944287Z",
     "iopub.status.busy": "2023-08-29T05:07:41.943808Z",
     "iopub.status.idle": "2023-08-29T05:07:41.958841Z",
     "shell.execute_reply": "2023-08-29T05:07:41.957522Z"
    },
    "papermill": {
     "duration": 0.038077,
     "end_time": "2023-08-29T05:07:41.961537",
     "exception": false,
     "start_time": "2023-08-29T05:07:41.923460",
     "status": "completed"
    },
    "tags": []
   },
   "outputs": [
    {
     "data": {
      "text/html": [
       "<div>\n",
       "<style scoped>\n",
       "    .dataframe tbody tr th:only-of-type {\n",
       "        vertical-align: middle;\n",
       "    }\n",
       "\n",
       "    .dataframe tbody tr th {\n",
       "        vertical-align: top;\n",
       "    }\n",
       "\n",
       "    .dataframe thead th {\n",
       "        text-align: right;\n",
       "    }\n",
       "</style>\n",
       "<table border=\"1\" class=\"dataframe\">\n",
       "  <thead>\n",
       "    <tr style=\"text-align: right;\">\n",
       "      <th></th>\n",
       "      <th>TV</th>\n",
       "      <th>Radio</th>\n",
       "      <th>Newspaper</th>\n",
       "    </tr>\n",
       "  </thead>\n",
       "  <tbody>\n",
       "    <tr>\n",
       "      <th>0</th>\n",
       "      <td>1.068390</td>\n",
       "      <td>-1.280656</td>\n",
       "      <td>0.291108</td>\n",
       "    </tr>\n",
       "    <tr>\n",
       "      <th>1</th>\n",
       "      <td>-0.661144</td>\n",
       "      <td>-1.531413</td>\n",
       "      <td>-0.306564</td>\n",
       "    </tr>\n",
       "    <tr>\n",
       "      <th>2</th>\n",
       "      <td>0.326334</td>\n",
       "      <td>-0.534981</td>\n",
       "      <td>-1.213979</td>\n",
       "    </tr>\n",
       "    <tr>\n",
       "      <th>3</th>\n",
       "      <td>-0.083475</td>\n",
       "      <td>-1.425831</td>\n",
       "      <td>-0.926049</td>\n",
       "    </tr>\n",
       "    <tr>\n",
       "      <th>4</th>\n",
       "      <td>-1.608105</td>\n",
       "      <td>-1.412633</td>\n",
       "      <td>-1.275055</td>\n",
       "    </tr>\n",
       "    <tr>\n",
       "      <th>...</th>\n",
       "      <td>...</td>\n",
       "      <td>...</td>\n",
       "      <td>...</td>\n",
       "    </tr>\n",
       "    <tr>\n",
       "      <th>135</th>\n",
       "      <td>1.549974</td>\n",
       "      <td>1.061950</td>\n",
       "      <td>1.115634</td>\n",
       "    </tr>\n",
       "    <tr>\n",
       "      <th>136</th>\n",
       "      <td>1.646060</td>\n",
       "      <td>1.240120</td>\n",
       "      <td>0.914956</td>\n",
       "    </tr>\n",
       "    <tr>\n",
       "      <th>137</th>\n",
       "      <td>-1.343002</td>\n",
       "      <td>0.072116</td>\n",
       "      <td>-1.222704</td>\n",
       "    </tr>\n",
       "    <tr>\n",
       "      <th>138</th>\n",
       "      <td>-1.617366</td>\n",
       "      <td>1.015757</td>\n",
       "      <td>0.888780</td>\n",
       "    </tr>\n",
       "    <tr>\n",
       "      <th>139</th>\n",
       "      <td>1.248984</td>\n",
       "      <td>0.223891</td>\n",
       "      <td>-1.078739</td>\n",
       "    </tr>\n",
       "  </tbody>\n",
       "</table>\n",
       "<p>140 rows × 3 columns</p>\n",
       "</div>"
      ],
      "text/plain": [
       "           TV     Radio  Newspaper\n",
       "0    1.068390 -1.280656   0.291108\n",
       "1   -0.661144 -1.531413  -0.306564\n",
       "2    0.326334 -0.534981  -1.213979\n",
       "3   -0.083475 -1.425831  -0.926049\n",
       "4   -1.608105 -1.412633  -1.275055\n",
       "..        ...       ...        ...\n",
       "135  1.549974  1.061950   1.115634\n",
       "136  1.646060  1.240120   0.914956\n",
       "137 -1.343002  0.072116  -1.222704\n",
       "138 -1.617366  1.015757   0.888780\n",
       "139  1.248984  0.223891  -1.078739\n",
       "\n",
       "[140 rows x 3 columns]"
      ]
     },
     "execution_count": 18,
     "metadata": {},
     "output_type": "execute_result"
    }
   ],
   "source": [
    "X_train"
   ]
  },
  {
   "cell_type": "code",
   "execution_count": 19,
   "id": "898e2ae7",
   "metadata": {
    "execution": {
     "iopub.execute_input": "2023-08-29T05:07:42.000465Z",
     "iopub.status.busy": "2023-08-29T05:07:42.000012Z",
     "iopub.status.idle": "2023-08-29T05:07:42.024237Z",
     "shell.execute_reply": "2023-08-29T05:07:42.022370Z"
    },
    "papermill": {
     "duration": 0.046304,
     "end_time": "2023-08-29T05:07:42.027329",
     "exception": false,
     "start_time": "2023-08-29T05:07:41.981025",
     "status": "completed"
    },
    "tags": []
   },
   "outputs": [
    {
     "data": {
      "text/html": [
       "<div>\n",
       "<style scoped>\n",
       "    .dataframe tbody tr th:only-of-type {\n",
       "        vertical-align: middle;\n",
       "    }\n",
       "\n",
       "    .dataframe tbody tr th {\n",
       "        vertical-align: top;\n",
       "    }\n",
       "\n",
       "    .dataframe thead th {\n",
       "        text-align: right;\n",
       "    }\n",
       "</style>\n",
       "<table border=\"1\" class=\"dataframe\">\n",
       "  <thead>\n",
       "    <tr style=\"text-align: right;\">\n",
       "      <th></th>\n",
       "      <th>TV</th>\n",
       "      <th>Radio</th>\n",
       "      <th>Newspaper</th>\n",
       "    </tr>\n",
       "  </thead>\n",
       "  <tbody>\n",
       "    <tr>\n",
       "      <th>0</th>\n",
       "      <td>0.605329</td>\n",
       "      <td>-1.346644</td>\n",
       "      <td>0.190769</td>\n",
       "    </tr>\n",
       "    <tr>\n",
       "      <th>1</th>\n",
       "      <td>-0.779225</td>\n",
       "      <td>-1.551210</td>\n",
       "      <td>-0.917324</td>\n",
       "    </tr>\n",
       "    <tr>\n",
       "      <th>2</th>\n",
       "      <td>-0.842896</td>\n",
       "      <td>1.708641</td>\n",
       "      <td>0.675014</td>\n",
       "    </tr>\n",
       "    <tr>\n",
       "      <th>3</th>\n",
       "      <td>-1.190192</td>\n",
       "      <td>0.151303</td>\n",
       "      <td>-0.419991</td>\n",
       "    </tr>\n",
       "    <tr>\n",
       "      <th>4</th>\n",
       "      <td>-0.002439</td>\n",
       "      <td>0.025924</td>\n",
       "      <td>-0.485430</td>\n",
       "    </tr>\n",
       "    <tr>\n",
       "      <th>5</th>\n",
       "      <td>1.049868</td>\n",
       "      <td>0.712209</td>\n",
       "      <td>-1.087464</td>\n",
       "    </tr>\n",
       "    <tr>\n",
       "      <th>6</th>\n",
       "      <td>0.209411</td>\n",
       "      <td>-0.891321</td>\n",
       "      <td>-0.550868</td>\n",
       "    </tr>\n",
       "    <tr>\n",
       "      <th>7</th>\n",
       "      <td>0.406212</td>\n",
       "      <td>1.497476</td>\n",
       "      <td>1.242149</td>\n",
       "    </tr>\n",
       "    <tr>\n",
       "      <th>8</th>\n",
       "      <td>0.473356</td>\n",
       "      <td>-0.356811</td>\n",
       "      <td>-0.201862</td>\n",
       "    </tr>\n",
       "    <tr>\n",
       "      <th>9</th>\n",
       "      <td>-1.572218</td>\n",
       "      <td>0.883780</td>\n",
       "      <td>0.653202</td>\n",
       "    </tr>\n",
       "    <tr>\n",
       "      <th>10</th>\n",
       "      <td>-0.835950</td>\n",
       "      <td>-0.211636</td>\n",
       "      <td>0.099155</td>\n",
       "    </tr>\n",
       "    <tr>\n",
       "      <th>11</th>\n",
       "      <td>0.665527</td>\n",
       "      <td>1.424888</td>\n",
       "      <td>-0.463617</td>\n",
       "    </tr>\n",
       "    <tr>\n",
       "      <th>12</th>\n",
       "      <td>-1.057062</td>\n",
       "      <td>-1.175073</td>\n",
       "      <td>-0.022997</td>\n",
       "    </tr>\n",
       "    <tr>\n",
       "      <th>13</th>\n",
       "      <td>-1.491182</td>\n",
       "      <td>-0.752745</td>\n",
       "      <td>-0.297839</td>\n",
       "    </tr>\n",
       "    <tr>\n",
       "      <th>14</th>\n",
       "      <td>-1.556011</td>\n",
       "      <td>-1.524814</td>\n",
       "      <td>-0.201862</td>\n",
       "    </tr>\n",
       "    <tr>\n",
       "      <th>15</th>\n",
       "      <td>-0.400672</td>\n",
       "      <td>-0.403004</td>\n",
       "      <td>0.365272</td>\n",
       "    </tr>\n",
       "    <tr>\n",
       "      <th>16</th>\n",
       "      <td>0.385375</td>\n",
       "      <td>-0.838530</td>\n",
       "      <td>1.229061</td>\n",
       "    </tr>\n",
       "    <tr>\n",
       "      <th>17</th>\n",
       "      <td>1.495565</td>\n",
       "      <td>-1.399436</td>\n",
       "      <td>-0.284751</td>\n",
       "    </tr>\n",
       "    <tr>\n",
       "      <th>18</th>\n",
       "      <td>-1.490024</td>\n",
       "      <td>-0.119251</td>\n",
       "      <td>0.880055</td>\n",
       "    </tr>\n",
       "    <tr>\n",
       "      <th>19</th>\n",
       "      <td>0.820653</td>\n",
       "      <td>0.276682</td>\n",
       "      <td>1.010932</td>\n",
       "    </tr>\n",
       "    <tr>\n",
       "      <th>20</th>\n",
       "      <td>-1.480763</td>\n",
       "      <td>-0.224834</td>\n",
       "      <td>-0.577044</td>\n",
       "    </tr>\n",
       "    <tr>\n",
       "      <th>21</th>\n",
       "      <td>-0.685455</td>\n",
       "      <td>0.131506</td>\n",
       "      <td>1.883447</td>\n",
       "    </tr>\n",
       "    <tr>\n",
       "      <th>22</th>\n",
       "      <td>-1.500443</td>\n",
       "      <td>0.929972</td>\n",
       "      <td>-0.376365</td>\n",
       "    </tr>\n",
       "    <tr>\n",
       "      <th>23</th>\n",
       "      <td>-1.128837</td>\n",
       "      <td>-0.785739</td>\n",
       "      <td>-0.515968</td>\n",
       "    </tr>\n",
       "    <tr>\n",
       "      <th>24</th>\n",
       "      <td>0.842648</td>\n",
       "      <td>1.682245</td>\n",
       "      <td>-1.179078</td>\n",
       "    </tr>\n",
       "    <tr>\n",
       "      <th>25</th>\n",
       "      <td>-1.397412</td>\n",
       "      <td>0.626423</td>\n",
       "      <td>-0.476704</td>\n",
       "    </tr>\n",
       "    <tr>\n",
       "      <th>26</th>\n",
       "      <td>0.105222</td>\n",
       "      <td>-1.379639</td>\n",
       "      <td>-0.956587</td>\n",
       "    </tr>\n",
       "    <tr>\n",
       "      <th>27</th>\n",
       "      <td>-0.053376</td>\n",
       "      <td>0.382264</td>\n",
       "      <td>-0.768997</td>\n",
       "    </tr>\n",
       "    <tr>\n",
       "      <th>28</th>\n",
       "      <td>-0.594000</td>\n",
       "      <td>-0.574575</td>\n",
       "      <td>0.378360</td>\n",
       "    </tr>\n",
       "    <tr>\n",
       "      <th>29</th>\n",
       "      <td>0.797499</td>\n",
       "      <td>1.200526</td>\n",
       "      <td>0.408898</td>\n",
       "    </tr>\n",
       "    <tr>\n",
       "      <th>30</th>\n",
       "      <td>-0.364785</td>\n",
       "      <td>-1.043096</td>\n",
       "      <td>-0.310927</td>\n",
       "    </tr>\n",
       "    <tr>\n",
       "      <th>31</th>\n",
       "      <td>1.196890</td>\n",
       "      <td>0.857384</td>\n",
       "      <td>1.835458</td>\n",
       "    </tr>\n",
       "    <tr>\n",
       "      <th>32</th>\n",
       "      <td>1.621749</td>\n",
       "      <td>1.286312</td>\n",
       "      <td>1.813645</td>\n",
       "    </tr>\n",
       "    <tr>\n",
       "      <th>33</th>\n",
       "      <td>-1.483079</td>\n",
       "      <td>-0.495388</td>\n",
       "      <td>-0.345827</td>\n",
       "    </tr>\n",
       "    <tr>\n",
       "      <th>34</th>\n",
       "      <td>0.528924</td>\n",
       "      <td>-0.337015</td>\n",
       "      <td>1.547529</td>\n",
       "    </tr>\n",
       "    <tr>\n",
       "      <th>35</th>\n",
       "      <td>0.836860</td>\n",
       "      <td>0.659417</td>\n",
       "      <td>0.648839</td>\n",
       "    </tr>\n",
       "    <tr>\n",
       "      <th>36</th>\n",
       "      <td>1.230462</td>\n",
       "      <td>-0.145647</td>\n",
       "      <td>-0.009909</td>\n",
       "    </tr>\n",
       "    <tr>\n",
       "      <th>37</th>\n",
       "      <td>0.432838</td>\n",
       "      <td>1.345702</td>\n",
       "      <td>-1.244517</td>\n",
       "    </tr>\n",
       "    <tr>\n",
       "      <th>38</th>\n",
       "      <td>0.182785</td>\n",
       "      <td>0.534039</td>\n",
       "      <td>0.989120</td>\n",
       "    </tr>\n",
       "    <tr>\n",
       "      <th>39</th>\n",
       "      <td>-0.857946</td>\n",
       "      <td>-0.429399</td>\n",
       "      <td>-0.755909</td>\n",
       "    </tr>\n",
       "    <tr>\n",
       "      <th>40</th>\n",
       "      <td>-0.986445</td>\n",
       "      <td>-0.719750</td>\n",
       "      <td>-0.520330</td>\n",
       "    </tr>\n",
       "    <tr>\n",
       "      <th>41</th>\n",
       "      <td>1.541871</td>\n",
       "      <td>-0.633965</td>\n",
       "      <td>0.295471</td>\n",
       "    </tr>\n",
       "    <tr>\n",
       "      <th>42</th>\n",
       "      <td>-0.802378</td>\n",
       "      <td>1.537069</td>\n",
       "      <td>0.186406</td>\n",
       "    </tr>\n",
       "    <tr>\n",
       "      <th>43</th>\n",
       "      <td>1.367065</td>\n",
       "      <td>-0.231432</td>\n",
       "      <td>-1.305593</td>\n",
       "    </tr>\n",
       "    <tr>\n",
       "      <th>44</th>\n",
       "      <td>0.935260</td>\n",
       "      <td>-0.435998</td>\n",
       "      <td>-0.175687</td>\n",
       "    </tr>\n",
       "    <tr>\n",
       "      <th>45</th>\n",
       "      <td>0.196677</td>\n",
       "      <td>-0.172042</td>\n",
       "      <td>0.749178</td>\n",
       "    </tr>\n",
       "    <tr>\n",
       "      <th>46</th>\n",
       "      <td>0.341384</td>\n",
       "      <td>0.652819</td>\n",
       "      <td>0.369634</td>\n",
       "    </tr>\n",
       "    <tr>\n",
       "      <th>47</th>\n",
       "      <td>0.866959</td>\n",
       "      <td>-1.267458</td>\n",
       "      <td>0.853880</td>\n",
       "    </tr>\n",
       "    <tr>\n",
       "      <th>48</th>\n",
       "      <td>0.579861</td>\n",
       "      <td>-0.013669</td>\n",
       "      <td>-0.699196</td>\n",
       "    </tr>\n",
       "    <tr>\n",
       "      <th>49</th>\n",
       "      <td>-0.436560</td>\n",
       "      <td>-0.607569</td>\n",
       "      <td>0.064254</td>\n",
       "    </tr>\n",
       "    <tr>\n",
       "      <th>50</th>\n",
       "      <td>-0.092736</td>\n",
       "      <td>-1.412633</td>\n",
       "      <td>-0.158237</td>\n",
       "    </tr>\n",
       "    <tr>\n",
       "      <th>51</th>\n",
       "      <td>0.906319</td>\n",
       "      <td>-1.010101</td>\n",
       "      <td>1.146172</td>\n",
       "    </tr>\n",
       "    <tr>\n",
       "      <th>52</th>\n",
       "      <td>1.691208</td>\n",
       "      <td>0.276682</td>\n",
       "      <td>-1.240154</td>\n",
       "    </tr>\n",
       "    <tr>\n",
       "      <th>53</th>\n",
       "      <td>-0.071899</td>\n",
       "      <td>0.217292</td>\n",
       "      <td>0.696827</td>\n",
       "    </tr>\n",
       "    <tr>\n",
       "      <th>54</th>\n",
       "      <td>-0.833635</td>\n",
       "      <td>-0.838530</td>\n",
       "      <td>-1.056926</td>\n",
       "    </tr>\n",
       "    <tr>\n",
       "      <th>55</th>\n",
       "      <td>-0.715554</td>\n",
       "      <td>0.811192</td>\n",
       "      <td>0.832067</td>\n",
       "    </tr>\n",
       "    <tr>\n",
       "      <th>56</th>\n",
       "      <td>-0.942454</td>\n",
       "      <td>-1.168474</td>\n",
       "      <td>-0.262938</td>\n",
       "    </tr>\n",
       "    <tr>\n",
       "      <th>57</th>\n",
       "      <td>1.497880</td>\n",
       "      <td>1.675646</td>\n",
       "      <td>0.504874</td>\n",
       "    </tr>\n",
       "    <tr>\n",
       "      <th>58</th>\n",
       "      <td>-0.312691</td>\n",
       "      <td>0.329473</td>\n",
       "      <td>-0.699196</td>\n",
       "    </tr>\n",
       "    <tr>\n",
       "      <th>59</th>\n",
       "      <td>1.062602</td>\n",
       "      <td>-0.528382</td>\n",
       "      <td>-0.127699</td>\n",
       "    </tr>\n",
       "  </tbody>\n",
       "</table>\n",
       "</div>"
      ],
      "text/plain": [
       "          TV     Radio  Newspaper\n",
       "0   0.605329 -1.346644   0.190769\n",
       "1  -0.779225 -1.551210  -0.917324\n",
       "2  -0.842896  1.708641   0.675014\n",
       "3  -1.190192  0.151303  -0.419991\n",
       "4  -0.002439  0.025924  -0.485430\n",
       "5   1.049868  0.712209  -1.087464\n",
       "6   0.209411 -0.891321  -0.550868\n",
       "7   0.406212  1.497476   1.242149\n",
       "8   0.473356 -0.356811  -0.201862\n",
       "9  -1.572218  0.883780   0.653202\n",
       "10 -0.835950 -0.211636   0.099155\n",
       "11  0.665527  1.424888  -0.463617\n",
       "12 -1.057062 -1.175073  -0.022997\n",
       "13 -1.491182 -0.752745  -0.297839\n",
       "14 -1.556011 -1.524814  -0.201862\n",
       "15 -0.400672 -0.403004   0.365272\n",
       "16  0.385375 -0.838530   1.229061\n",
       "17  1.495565 -1.399436  -0.284751\n",
       "18 -1.490024 -0.119251   0.880055\n",
       "19  0.820653  0.276682   1.010932\n",
       "20 -1.480763 -0.224834  -0.577044\n",
       "21 -0.685455  0.131506   1.883447\n",
       "22 -1.500443  0.929972  -0.376365\n",
       "23 -1.128837 -0.785739  -0.515968\n",
       "24  0.842648  1.682245  -1.179078\n",
       "25 -1.397412  0.626423  -0.476704\n",
       "26  0.105222 -1.379639  -0.956587\n",
       "27 -0.053376  0.382264  -0.768997\n",
       "28 -0.594000 -0.574575   0.378360\n",
       "29  0.797499  1.200526   0.408898\n",
       "30 -0.364785 -1.043096  -0.310927\n",
       "31  1.196890  0.857384   1.835458\n",
       "32  1.621749  1.286312   1.813645\n",
       "33 -1.483079 -0.495388  -0.345827\n",
       "34  0.528924 -0.337015   1.547529\n",
       "35  0.836860  0.659417   0.648839\n",
       "36  1.230462 -0.145647  -0.009909\n",
       "37  0.432838  1.345702  -1.244517\n",
       "38  0.182785  0.534039   0.989120\n",
       "39 -0.857946 -0.429399  -0.755909\n",
       "40 -0.986445 -0.719750  -0.520330\n",
       "41  1.541871 -0.633965   0.295471\n",
       "42 -0.802378  1.537069   0.186406\n",
       "43  1.367065 -0.231432  -1.305593\n",
       "44  0.935260 -0.435998  -0.175687\n",
       "45  0.196677 -0.172042   0.749178\n",
       "46  0.341384  0.652819   0.369634\n",
       "47  0.866959 -1.267458   0.853880\n",
       "48  0.579861 -0.013669  -0.699196\n",
       "49 -0.436560 -0.607569   0.064254\n",
       "50 -0.092736 -1.412633  -0.158237\n",
       "51  0.906319 -1.010101   1.146172\n",
       "52  1.691208  0.276682  -1.240154\n",
       "53 -0.071899  0.217292   0.696827\n",
       "54 -0.833635 -0.838530  -1.056926\n",
       "55 -0.715554  0.811192   0.832067\n",
       "56 -0.942454 -1.168474  -0.262938\n",
       "57  1.497880  1.675646   0.504874\n",
       "58 -0.312691  0.329473  -0.699196\n",
       "59  1.062602 -0.528382  -0.127699"
      ]
     },
     "execution_count": 19,
     "metadata": {},
     "output_type": "execute_result"
    }
   ],
   "source": [
    "X_test"
   ]
  },
  {
   "cell_type": "markdown",
   "id": "ada1236c",
   "metadata": {
    "papermill": {
     "duration": 0.018919,
     "end_time": "2023-08-29T05:07:42.066437",
     "exception": false,
     "start_time": "2023-08-29T05:07:42.047518",
     "status": "completed"
    },
    "tags": []
   },
   "source": [
    "# **<font color=\"F11A00\">RandomForestRegressor</font>**"
   ]
  },
  {
   "cell_type": "code",
   "execution_count": 20,
   "id": "46e4d171",
   "metadata": {
    "execution": {
     "iopub.execute_input": "2023-08-29T05:07:42.111049Z",
     "iopub.status.busy": "2023-08-29T05:07:42.110527Z",
     "iopub.status.idle": "2023-08-29T05:07:42.380850Z",
     "shell.execute_reply": "2023-08-29T05:07:42.379350Z"
    },
    "papermill": {
     "duration": 0.296709,
     "end_time": "2023-08-29T05:07:42.383858",
     "exception": false,
     "start_time": "2023-08-29T05:07:42.087149",
     "status": "completed"
    },
    "tags": []
   },
   "outputs": [
    {
     "name": "stdout",
     "output_type": "stream",
     "text": [
      "Mean Squared Error: 1.3901\n",
      "R-squared: 0.9490\n"
     ]
    }
   ],
   "source": [
    "rfc = RandomForestRegressor(n_estimators=100, random_state=42)\n",
    "\n",
    "# Fit the model to the training data\n",
    "rfc.fit(X_train, y_train)\n",
    "\n",
    "# Make predictions on the test data\n",
    "y_pred = rfc.predict(X_test)\n",
    "\n",
    "# Evaluate the model\n",
    "mse = mean_squared_error(y_test, y_pred)\n",
    "r2 = r2_score(y_test, y_pred)\n",
    "\n",
    "print(f\"Mean Squared Error: {mse:.4f}\")\n",
    "print(f\"R-squared: {r2:.4f}\")"
   ]
  },
  {
   "cell_type": "code",
   "execution_count": 21,
   "id": "aa7f5e85",
   "metadata": {
    "execution": {
     "iopub.execute_input": "2023-08-29T05:07:42.429736Z",
     "iopub.status.busy": "2023-08-29T05:07:42.429227Z",
     "iopub.status.idle": "2023-08-29T05:07:42.460886Z",
     "shell.execute_reply": "2023-08-29T05:07:42.458253Z"
    },
    "papermill": {
     "duration": 0.058432,
     "end_time": "2023-08-29T05:07:42.464466",
     "exception": false,
     "start_time": "2023-08-29T05:07:42.406034",
     "status": "completed"
    },
    "tags": []
   },
   "outputs": [
    {
     "name": "stdout",
     "output_type": "stream",
     "text": [
      "Mean Squared Error: 0.2354\n",
      "R-squared: 0.9916\n"
     ]
    }
   ],
   "source": [
    "y_train_pred=rfc.predict(X_train)\n",
    "mse_train = mean_squared_error(y_train, y_train_pred)\n",
    "r2_train = r2_score(y_train, y_train_pred)\n",
    "\n",
    "print(f\"Mean Squared Error: {mse_train:.4f}\")\n",
    "print(f\"R-squared: {r2_train:.4f}\")"
   ]
  },
  {
   "cell_type": "markdown",
   "id": "7f89f2e5",
   "metadata": {
    "papermill": {
     "duration": 0.020662,
     "end_time": "2023-08-29T05:07:42.506840",
     "exception": false,
     "start_time": "2023-08-29T05:07:42.486178",
     "status": "completed"
    },
    "tags": []
   },
   "source": [
    "# **<font color=\"AF003D\">LinearRegression</font>**"
   ]
  },
  {
   "cell_type": "code",
   "execution_count": 22,
   "id": "8df3bfa5",
   "metadata": {
    "execution": {
     "iopub.execute_input": "2023-08-29T05:07:42.553697Z",
     "iopub.status.busy": "2023-08-29T05:07:42.553206Z",
     "iopub.status.idle": "2023-08-29T05:07:42.570970Z",
     "shell.execute_reply": "2023-08-29T05:07:42.568591Z"
    },
    "papermill": {
     "duration": 0.045532,
     "end_time": "2023-08-29T05:07:42.574298",
     "exception": false,
     "start_time": "2023-08-29T05:07:42.528766",
     "status": "completed"
    },
    "tags": []
   },
   "outputs": [
    {
     "name": "stdout",
     "output_type": "stream",
     "text": [
      "Mean Squared Error: 3.2695\n",
      "R-squared: 0.8800\n"
     ]
    }
   ],
   "source": [
    "lr=LinearRegression()\n",
    "lr.fit(X_train,y_train)\n",
    "y_pred_lr=lr.predict(X_test)\n",
    "mse = mean_squared_error(y_test, y_pred_lr)\n",
    "r2 = r2_score(y_test, y_pred_lr)\n",
    "\n",
    "print(f\"Mean Squared Error: {mse:.4f}\")\n",
    "print(f\"R-squared: {r2:.4f}\")"
   ]
  },
  {
   "cell_type": "code",
   "execution_count": 23,
   "id": "a2b5c4d5",
   "metadata": {
    "execution": {
     "iopub.execute_input": "2023-08-29T05:07:42.620325Z",
     "iopub.status.busy": "2023-08-29T05:07:42.619772Z",
     "iopub.status.idle": "2023-08-29T05:07:42.647529Z",
     "shell.execute_reply": "2023-08-29T05:07:42.645711Z"
    },
    "papermill": {
     "duration": 0.056029,
     "end_time": "2023-08-29T05:07:42.651025",
     "exception": false,
     "start_time": "2023-08-29T05:07:42.594996",
     "status": "completed"
    },
    "tags": []
   },
   "outputs": [
    {
     "name": "stdout",
     "output_type": "stream",
     "text": [
      "Mean Squared Error: 0.2354\n",
      "R-squared: 0.9916\n"
     ]
    }
   ],
   "source": [
    "y_train_predlr=rfc.predict(X_train)\n",
    "mse_train = mean_squared_error(y_train, y_train_predlr)\n",
    "r2_train = r2_score(y_train, y_train_predlr)\n",
    "\n",
    "print(f\"Mean Squared Error: {mse_train:.4f}\")\n",
    "print(f\"R-squared: {r2_train:.4f}\")"
   ]
  },
  {
   "cell_type": "markdown",
   "id": "b257bdf7",
   "metadata": {
    "papermill": {
     "duration": 0.022578,
     "end_time": "2023-08-29T05:07:42.696705",
     "exception": false,
     "start_time": "2023-08-29T05:07:42.674127",
     "status": "completed"
    },
    "tags": []
   },
   "source": [
    "# **<font color=\"Blue\"> DecisionTree</font>**"
   ]
  },
  {
   "cell_type": "code",
   "execution_count": 24,
   "id": "16b80317",
   "metadata": {
    "execution": {
     "iopub.execute_input": "2023-08-29T05:07:42.740131Z",
     "iopub.status.busy": "2023-08-29T05:07:42.739694Z",
     "iopub.status.idle": "2023-08-29T05:07:42.750577Z",
     "shell.execute_reply": "2023-08-29T05:07:42.749569Z"
    },
    "papermill": {
     "duration": 0.034891,
     "end_time": "2023-08-29T05:07:42.753092",
     "exception": false,
     "start_time": "2023-08-29T05:07:42.718201",
     "status": "completed"
    },
    "tags": []
   },
   "outputs": [],
   "source": [
    "dec_reg = DecisionTreeRegressor(\n",
    "    max_depth=5,\n",
    "    min_samples_split=2,\n",
    "    min_samples_leaf=1,\n",
    "    criterion='squared_error',  # Change this to the appropriate criterion\n",
    "    splitter='best',   # or 'random'\n",
    "    max_leaf_nodes=10\n",
    ")\n",
    "\n",
    "# Fit the regressor to the training data\n",
    "dec_reg.fit(X_train, y_train)\n",
    "\n",
    "# Make predictions on the test data\n",
    "y_pred_dec = dec_reg.predict(X_test)"
   ]
  },
  {
   "cell_type": "code",
   "execution_count": 25,
   "id": "36b712f3",
   "metadata": {
    "execution": {
     "iopub.execute_input": "2023-08-29T05:07:42.799013Z",
     "iopub.status.busy": "2023-08-29T05:07:42.798079Z",
     "iopub.status.idle": "2023-08-29T05:07:42.810418Z",
     "shell.execute_reply": "2023-08-29T05:07:42.808581Z"
    },
    "papermill": {
     "duration": 0.041482,
     "end_time": "2023-08-29T05:07:42.814073",
     "exception": false,
     "start_time": "2023-08-29T05:07:42.772591",
     "status": "completed"
    },
    "tags": []
   },
   "outputs": [
    {
     "name": "stdout",
     "output_type": "stream",
     "text": [
      "Mean Squared Error: 1.7200\n",
      "R-squared: 0.9386\n"
     ]
    }
   ],
   "source": [
    "y_train_preddec=dec_reg.predict(X_train)\n",
    "mse_train = mean_squared_error(y_train, y_train_preddec)\n",
    "r2_train = r2_score(y_train, y_train_preddec)\n",
    "\n",
    "print(f\"Mean Squared Error: {mse_train:.4f}\")\n",
    "print(f\"R-squared: {r2_train:.4f}\")"
   ]
  },
  {
   "cell_type": "code",
   "execution_count": 26,
   "id": "0b885983",
   "metadata": {
    "execution": {
     "iopub.execute_input": "2023-08-29T05:07:42.858016Z",
     "iopub.status.busy": "2023-08-29T05:07:42.856980Z",
     "iopub.status.idle": "2023-08-29T05:07:42.865635Z",
     "shell.execute_reply": "2023-08-29T05:07:42.864322Z"
    },
    "papermill": {
     "duration": 0.033936,
     "end_time": "2023-08-29T05:07:42.869133",
     "exception": false,
     "start_time": "2023-08-29T05:07:42.835197",
     "status": "completed"
    },
    "tags": []
   },
   "outputs": [
    {
     "name": "stdout",
     "output_type": "stream",
     "text": [
      "Mean Squared Error: 3.2054\n",
      "R-squared: 0.8823\n"
     ]
    }
   ],
   "source": [
    "mse_dec_test = mean_squared_error(y_test, y_pred_dec)\n",
    "r2_dec_test = r2_score(y_test, y_pred_dec)\n",
    "\n",
    "print(f\"Mean Squared Error: {mse_dec_test:.4f}\")\n",
    "print(f\"R-squared: {r2_dec_test:.4f}\")"
   ]
  },
  {
   "cell_type": "code",
   "execution_count": null,
   "id": "1140a06d",
   "metadata": {
    "papermill": {
     "duration": 0.019649,
     "end_time": "2023-08-29T05:07:42.909341",
     "exception": false,
     "start_time": "2023-08-29T05:07:42.889692",
     "status": "completed"
    },
    "tags": []
   },
   "outputs": [],
   "source": []
  }
 ],
 "metadata": {
  "kernelspec": {
   "display_name": "Python 3",
   "language": "python",
   "name": "python3"
  },
  "language_info": {
   "codemirror_mode": {
    "name": "ipython",
    "version": 3
   },
   "file_extension": ".py",
   "mimetype": "text/x-python",
   "name": "python",
   "nbconvert_exporter": "python",
   "pygments_lexer": "ipython3",
   "version": "3.10.12"
  },
  "papermill": {
   "default_parameters": {},
   "duration": 93.789171,
   "end_time": "2023-08-29T05:07:44.357680",
   "environment_variables": {},
   "exception": null,
   "input_path": "__notebook__.ipynb",
   "output_path": "__notebook__.ipynb",
   "parameters": {},
   "start_time": "2023-08-29T05:06:10.568509",
   "version": "2.4.0"
  }
 },
 "nbformat": 4,
 "nbformat_minor": 5
}
